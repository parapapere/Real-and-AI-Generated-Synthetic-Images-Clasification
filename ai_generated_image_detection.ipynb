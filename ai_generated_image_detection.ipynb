{
  "cells": [
    {
      "cell_type": "markdown",
      "metadata": {
        "id": "izZZ8ee9RA1S"
      },
      "source": [
        "### **Importing libraries**"
      ]
    },
    {
      "cell_type": "code",
      "execution_count": 2,
      "metadata": {
        "colab": {
          "base_uri": "https://localhost:8080/"
        },
        "id": "AsmUzKwn7uA3",
        "outputId": "4eabc7ca-664b-46d3-d88e-5029541aaa4a"
      },
      "outputs": [
        {
          "name": "stdout",
          "output_type": "stream",
          "text": [
            "Requirement already satisfied: opencv-python in c:\\users\\marcin\\appdata\\local\\packages\\pythonsoftwarefoundation.python.3.11_qbz5n2kfra8p0\\localcache\\local-packages\\python311\\site-packages (4.9.0.80)\n",
            "Requirement already satisfied: matplotlib in c:\\users\\marcin\\appdata\\local\\packages\\pythonsoftwarefoundation.python.3.11_qbz5n2kfra8p0\\localcache\\local-packages\\python311\\site-packages (3.7.1)\n",
            "Requirement already satisfied: tensorflow in c:\\users\\marcin\\appdata\\local\\packages\\pythonsoftwarefoundation.python.3.11_qbz5n2kfra8p0\\localcache\\local-packages\\python311\\site-packages (2.15.0)\n",
            "Requirement already satisfied: split-folders in c:\\users\\marcin\\appdata\\local\\packages\\pythonsoftwarefoundation.python.3.11_qbz5n2kfra8p0\\localcache\\local-packages\\python311\\site-packages (0.5.1)\n",
            "Requirement already satisfied: numpy>=1.21.2 in c:\\users\\marcin\\appdata\\local\\packages\\pythonsoftwarefoundation.python.3.11_qbz5n2kfra8p0\\localcache\\local-packages\\python311\\site-packages (from opencv-python) (1.24.2)\n",
            "Requirement already satisfied: contourpy>=1.0.1 in c:\\users\\marcin\\appdata\\local\\packages\\pythonsoftwarefoundation.python.3.11_qbz5n2kfra8p0\\localcache\\local-packages\\python311\\site-packages (from matplotlib) (1.0.7)\n",
            "Requirement already satisfied: cycler>=0.10 in c:\\users\\marcin\\appdata\\local\\packages\\pythonsoftwarefoundation.python.3.11_qbz5n2kfra8p0\\localcache\\local-packages\\python311\\site-packages (from matplotlib) (0.11.0)\n",
            "Requirement already satisfied: fonttools>=4.22.0 in c:\\users\\marcin\\appdata\\local\\packages\\pythonsoftwarefoundation.python.3.11_qbz5n2kfra8p0\\localcache\\local-packages\\python311\\site-packages (from matplotlib) (4.39.2)\n",
            "Requirement already satisfied: kiwisolver>=1.0.1 in c:\\users\\marcin\\appdata\\local\\packages\\pythonsoftwarefoundation.python.3.11_qbz5n2kfra8p0\\localcache\\local-packages\\python311\\site-packages (from matplotlib) (1.4.4)\n",
            "Requirement already satisfied: packaging>=20.0 in c:\\users\\marcin\\appdata\\local\\packages\\pythonsoftwarefoundation.python.3.11_qbz5n2kfra8p0\\localcache\\local-packages\\python311\\site-packages (from matplotlib) (23.0)\n",
            "Requirement already satisfied: pillow>=6.2.0 in c:\\users\\marcin\\appdata\\local\\packages\\pythonsoftwarefoundation.python.3.11_qbz5n2kfra8p0\\localcache\\local-packages\\python311\\site-packages (from matplotlib) (9.4.0)\n",
            "Requirement already satisfied: pyparsing>=2.3.1 in c:\\users\\marcin\\appdata\\local\\packages\\pythonsoftwarefoundation.python.3.11_qbz5n2kfra8p0\\localcache\\local-packages\\python311\\site-packages (from matplotlib) (3.0.9)\n",
            "Requirement already satisfied: python-dateutil>=2.7 in c:\\users\\marcin\\appdata\\local\\packages\\pythonsoftwarefoundation.python.3.11_qbz5n2kfra8p0\\localcache\\local-packages\\python311\\site-packages (from matplotlib) (2.8.2)\n",
            "Requirement already satisfied: tensorflow-intel==2.15.0 in c:\\users\\marcin\\appdata\\local\\packages\\pythonsoftwarefoundation.python.3.11_qbz5n2kfra8p0\\localcache\\local-packages\\python311\\site-packages (from tensorflow) (2.15.0)\n",
            "Requirement already satisfied: absl-py>=1.0.0 in c:\\users\\marcin\\appdata\\local\\packages\\pythonsoftwarefoundation.python.3.11_qbz5n2kfra8p0\\localcache\\local-packages\\python311\\site-packages (from tensorflow-intel==2.15.0->tensorflow) (2.1.0)\n",
            "Requirement already satisfied: astunparse>=1.6.0 in c:\\users\\marcin\\appdata\\local\\packages\\pythonsoftwarefoundation.python.3.11_qbz5n2kfra8p0\\localcache\\local-packages\\python311\\site-packages (from tensorflow-intel==2.15.0->tensorflow) (1.6.3)\n",
            "Requirement already satisfied: flatbuffers>=23.5.26 in c:\\users\\marcin\\appdata\\local\\packages\\pythonsoftwarefoundation.python.3.11_qbz5n2kfra8p0\\localcache\\local-packages\\python311\\site-packages (from tensorflow-intel==2.15.0->tensorflow) (23.5.26)\n",
            "Requirement already satisfied: gast!=0.5.0,!=0.5.1,!=0.5.2,>=0.2.1 in c:\\users\\marcin\\appdata\\local\\packages\\pythonsoftwarefoundation.python.3.11_qbz5n2kfra8p0\\localcache\\local-packages\\python311\\site-packages (from tensorflow-intel==2.15.0->tensorflow) (0.5.4)\n",
            "Requirement already satisfied: google-pasta>=0.1.1 in c:\\users\\marcin\\appdata\\local\\packages\\pythonsoftwarefoundation.python.3.11_qbz5n2kfra8p0\\localcache\\local-packages\\python311\\site-packages (from tensorflow-intel==2.15.0->tensorflow) (0.2.0)\n",
            "Requirement already satisfied: h5py>=2.9.0 in c:\\users\\marcin\\appdata\\local\\packages\\pythonsoftwarefoundation.python.3.11_qbz5n2kfra8p0\\localcache\\local-packages\\python311\\site-packages (from tensorflow-intel==2.15.0->tensorflow) (3.10.0)\n",
            "Requirement already satisfied: libclang>=13.0.0 in c:\\users\\marcin\\appdata\\local\\packages\\pythonsoftwarefoundation.python.3.11_qbz5n2kfra8p0\\localcache\\local-packages\\python311\\site-packages (from tensorflow-intel==2.15.0->tensorflow) (16.0.6)\n",
            "Requirement already satisfied: ml-dtypes~=0.2.0 in c:\\users\\marcin\\appdata\\local\\packages\\pythonsoftwarefoundation.python.3.11_qbz5n2kfra8p0\\localcache\\local-packages\\python311\\site-packages (from tensorflow-intel==2.15.0->tensorflow) (0.2.0)\n",
            "Requirement already satisfied: opt-einsum>=2.3.2 in c:\\users\\marcin\\appdata\\local\\packages\\pythonsoftwarefoundation.python.3.11_qbz5n2kfra8p0\\localcache\\local-packages\\python311\\site-packages (from tensorflow-intel==2.15.0->tensorflow) (3.3.0)\n",
            "Requirement already satisfied: protobuf!=4.21.0,!=4.21.1,!=4.21.2,!=4.21.3,!=4.21.4,!=4.21.5,<5.0.0dev,>=3.20.3 in c:\\users\\marcin\\appdata\\local\\packages\\pythonsoftwarefoundation.python.3.11_qbz5n2kfra8p0\\localcache\\local-packages\\python311\\site-packages (from tensorflow-intel==2.15.0->tensorflow) (4.23.4)\n",
            "Requirement already satisfied: setuptools in c:\\program files\\windowsapps\\pythonsoftwarefoundation.python.3.11_3.11.2032.0_x64__qbz5n2kfra8p0\\lib\\site-packages (from tensorflow-intel==2.15.0->tensorflow) (65.5.0)\n",
            "Requirement already satisfied: six>=1.12.0 in c:\\users\\marcin\\appdata\\local\\packages\\pythonsoftwarefoundation.python.3.11_qbz5n2kfra8p0\\localcache\\local-packages\\python311\\site-packages (from tensorflow-intel==2.15.0->tensorflow) (1.16.0)\n",
            "Requirement already satisfied: termcolor>=1.1.0 in c:\\users\\marcin\\appdata\\local\\packages\\pythonsoftwarefoundation.python.3.11_qbz5n2kfra8p0\\localcache\\local-packages\\python311\\site-packages (from tensorflow-intel==2.15.0->tensorflow) (2.4.0)\n",
            "Requirement already satisfied: typing-extensions>=3.6.6 in c:\\users\\marcin\\appdata\\local\\packages\\pythonsoftwarefoundation.python.3.11_qbz5n2kfra8p0\\localcache\\local-packages\\python311\\site-packages (from tensorflow-intel==2.15.0->tensorflow) (4.9.0)\n",
            "Requirement already satisfied: wrapt<1.15,>=1.11.0 in c:\\users\\marcin\\appdata\\local\\packages\\pythonsoftwarefoundation.python.3.11_qbz5n2kfra8p0\\localcache\\local-packages\\python311\\site-packages (from tensorflow-intel==2.15.0->tensorflow) (1.14.1)\n",
            "Requirement already satisfied: tensorflow-io-gcs-filesystem>=0.23.1 in c:\\users\\marcin\\appdata\\local\\packages\\pythonsoftwarefoundation.python.3.11_qbz5n2kfra8p0\\localcache\\local-packages\\python311\\site-packages (from tensorflow-intel==2.15.0->tensorflow) (0.31.0)\n",
            "Requirement already satisfied: grpcio<2.0,>=1.24.3 in c:\\users\\marcin\\appdata\\local\\packages\\pythonsoftwarefoundation.python.3.11_qbz5n2kfra8p0\\localcache\\local-packages\\python311\\site-packages (from tensorflow-intel==2.15.0->tensorflow) (1.60.0)\n",
            "Requirement already satisfied: tensorboard<2.16,>=2.15 in c:\\users\\marcin\\appdata\\local\\packages\\pythonsoftwarefoundation.python.3.11_qbz5n2kfra8p0\\localcache\\local-packages\\python311\\site-packages (from tensorflow-intel==2.15.0->tensorflow) (2.15.1)\n",
            "Requirement already satisfied: tensorflow-estimator<2.16,>=2.15.0 in c:\\users\\marcin\\appdata\\local\\packages\\pythonsoftwarefoundation.python.3.11_qbz5n2kfra8p0\\localcache\\local-packages\\python311\\site-packages (from tensorflow-intel==2.15.0->tensorflow) (2.15.0)\n",
            "Requirement already satisfied: keras<2.16,>=2.15.0 in c:\\users\\marcin\\appdata\\local\\packages\\pythonsoftwarefoundation.python.3.11_qbz5n2kfra8p0\\localcache\\local-packages\\python311\\site-packages (from tensorflow-intel==2.15.0->tensorflow) (2.15.0)\n",
            "Requirement already satisfied: wheel<1.0,>=0.23.0 in c:\\users\\marcin\\appdata\\local\\packages\\pythonsoftwarefoundation.python.3.11_qbz5n2kfra8p0\\localcache\\local-packages\\python311\\site-packages (from astunparse>=1.6.0->tensorflow-intel==2.15.0->tensorflow) (0.42.0)\n",
            "Requirement already satisfied: google-auth<3,>=1.6.3 in c:\\users\\marcin\\appdata\\local\\packages\\pythonsoftwarefoundation.python.3.11_qbz5n2kfra8p0\\localcache\\local-packages\\python311\\site-packages (from tensorboard<2.16,>=2.15->tensorflow-intel==2.15.0->tensorflow) (2.26.2)\n",
            "Requirement already satisfied: google-auth-oauthlib<2,>=0.5 in c:\\users\\marcin\\appdata\\local\\packages\\pythonsoftwarefoundation.python.3.11_qbz5n2kfra8p0\\localcache\\local-packages\\python311\\site-packages (from tensorboard<2.16,>=2.15->tensorflow-intel==2.15.0->tensorflow) (1.2.0)\n",
            "Requirement already satisfied: markdown>=2.6.8 in c:\\users\\marcin\\appdata\\local\\packages\\pythonsoftwarefoundation.python.3.11_qbz5n2kfra8p0\\localcache\\local-packages\\python311\\site-packages (from tensorboard<2.16,>=2.15->tensorflow-intel==2.15.0->tensorflow) (3.5.2)\n",
            "Requirement already satisfied: requests<3,>=2.21.0 in c:\\users\\marcin\\appdata\\local\\packages\\pythonsoftwarefoundation.python.3.11_qbz5n2kfra8p0\\localcache\\local-packages\\python311\\site-packages (from tensorboard<2.16,>=2.15->tensorflow-intel==2.15.0->tensorflow) (2.31.0)\n",
            "Requirement already satisfied: tensorboard-data-server<0.8.0,>=0.7.0 in c:\\users\\marcin\\appdata\\local\\packages\\pythonsoftwarefoundation.python.3.11_qbz5n2kfra8p0\\localcache\\local-packages\\python311\\site-packages (from tensorboard<2.16,>=2.15->tensorflow-intel==2.15.0->tensorflow) (0.7.2)\n",
            "Requirement already satisfied: werkzeug>=1.0.1 in c:\\users\\marcin\\appdata\\local\\packages\\pythonsoftwarefoundation.python.3.11_qbz5n2kfra8p0\\localcache\\local-packages\\python311\\site-packages (from tensorboard<2.16,>=2.15->tensorflow-intel==2.15.0->tensorflow) (3.0.1)\n",
            "Requirement already satisfied: cachetools<6.0,>=2.0.0 in c:\\users\\marcin\\appdata\\local\\packages\\pythonsoftwarefoundation.python.3.11_qbz5n2kfra8p0\\localcache\\local-packages\\python311\\site-packages (from google-auth<3,>=1.6.3->tensorboard<2.16,>=2.15->tensorflow-intel==2.15.0->tensorflow) (5.3.2)\n",
            "Requirement already satisfied: pyasn1-modules>=0.2.1 in c:\\users\\marcin\\appdata\\local\\packages\\pythonsoftwarefoundation.python.3.11_qbz5n2kfra8p0\\localcache\\local-packages\\python311\\site-packages (from google-auth<3,>=1.6.3->tensorboard<2.16,>=2.15->tensorflow-intel==2.15.0->tensorflow) (0.3.0)\n",
            "Requirement already satisfied: rsa<5,>=3.1.4 in c:\\users\\marcin\\appdata\\local\\packages\\pythonsoftwarefoundation.python.3.11_qbz5n2kfra8p0\\localcache\\local-packages\\python311\\site-packages (from google-auth<3,>=1.6.3->tensorboard<2.16,>=2.15->tensorflow-intel==2.15.0->tensorflow) (4.9)\n",
            "Requirement already satisfied: requests-oauthlib>=0.7.0 in c:\\users\\marcin\\appdata\\local\\packages\\pythonsoftwarefoundation.python.3.11_qbz5n2kfra8p0\\localcache\\local-packages\\python311\\site-packages (from google-auth-oauthlib<2,>=0.5->tensorboard<2.16,>=2.15->tensorflow-intel==2.15.0->tensorflow) (1.3.1)\n",
            "Requirement already satisfied: charset-normalizer<4,>=2 in c:\\users\\marcin\\appdata\\local\\packages\\pythonsoftwarefoundation.python.3.11_qbz5n2kfra8p0\\localcache\\local-packages\\python311\\site-packages (from requests<3,>=2.21.0->tensorboard<2.16,>=2.15->tensorflow-intel==2.15.0->tensorflow) (3.3.2)\n",
            "Requirement already satisfied: idna<4,>=2.5 in c:\\users\\marcin\\appdata\\local\\packages\\pythonsoftwarefoundation.python.3.11_qbz5n2kfra8p0\\localcache\\local-packages\\python311\\site-packages (from requests<3,>=2.21.0->tensorboard<2.16,>=2.15->tensorflow-intel==2.15.0->tensorflow) (3.6)\n",
            "Requirement already satisfied: urllib3<3,>=1.21.1 in c:\\users\\marcin\\appdata\\local\\packages\\pythonsoftwarefoundation.python.3.11_qbz5n2kfra8p0\\localcache\\local-packages\\python311\\site-packages (from requests<3,>=2.21.0->tensorboard<2.16,>=2.15->tensorflow-intel==2.15.0->tensorflow) (2.1.0)\n",
            "Requirement already satisfied: certifi>=2017.4.17 in c:\\users\\marcin\\appdata\\local\\packages\\pythonsoftwarefoundation.python.3.11_qbz5n2kfra8p0\\localcache\\local-packages\\python311\\site-packages (from requests<3,>=2.21.0->tensorboard<2.16,>=2.15->tensorflow-intel==2.15.0->tensorflow) (2023.11.17)\n",
            "Requirement already satisfied: MarkupSafe>=2.1.1 in c:\\users\\marcin\\appdata\\local\\packages\\pythonsoftwarefoundation.python.3.11_qbz5n2kfra8p0\\localcache\\local-packages\\python311\\site-packages (from werkzeug>=1.0.1->tensorboard<2.16,>=2.15->tensorflow-intel==2.15.0->tensorflow) (2.1.4)\n",
            "Requirement already satisfied: pyasn1<0.6.0,>=0.4.6 in c:\\users\\marcin\\appdata\\local\\packages\\pythonsoftwarefoundation.python.3.11_qbz5n2kfra8p0\\localcache\\local-packages\\python311\\site-packages (from pyasn1-modules>=0.2.1->google-auth<3,>=1.6.3->tensorboard<2.16,>=2.15->tensorflow-intel==2.15.0->tensorflow) (0.5.1)\n",
            "Requirement already satisfied: oauthlib>=3.0.0 in c:\\users\\marcin\\appdata\\local\\packages\\pythonsoftwarefoundation.python.3.11_qbz5n2kfra8p0\\localcache\\local-packages\\python311\\site-packages (from requests-oauthlib>=0.7.0->google-auth-oauthlib<2,>=0.5->tensorboard<2.16,>=2.15->tensorflow-intel==2.15.0->tensorflow) (3.2.2)\n"
          ]
        }
      ],
      "source": [
        "!pip install opencv-python matplotlib tensorflow split-folders"
      ]
    },
    {
      "cell_type": "code",
      "execution_count": 3,
      "metadata": {
        "colab": {
          "base_uri": "https://localhost:8080/"
        },
        "id": "7HMZexZb72UT",
        "outputId": "43646a4c-dee7-4466-ad9d-bf70d2f16bc2"
      },
      "outputs": [
        {
          "name": "stdout",
          "output_type": "stream",
          "text": [
            "Package                      Version\n",
            "---------------------------- ------------\n",
            "absl-py                      2.1.0\n",
            "asttokens                    2.4.1\n",
            "astunparse                   1.6.3\n",
            "cachetools                   5.3.2\n",
            "certifi                      2023.11.17\n",
            "charset-normalizer           3.3.2\n",
            "colorama                     0.4.6\n",
            "comm                         0.2.1\n",
            "contourpy                    1.0.7\n",
            "cycler                       0.11.0\n",
            "debugpy                      1.8.0\n",
            "decorator                    5.1.1\n",
            "dm-tree                      0.1.8\n",
            "executing                    2.0.1\n",
            "flatbuffers                  23.5.26\n",
            "fonttools                    4.39.2\n",
            "gast                         0.5.4\n",
            "google-auth                  2.26.2\n",
            "google-auth-oauthlib         1.2.0\n",
            "google-pasta                 0.2.0\n",
            "grpcio                       1.60.0\n",
            "h5py                         3.10.0\n",
            "idna                         3.6\n",
            "ipykernel                    6.28.0\n",
            "ipython                      8.20.0\n",
            "jedi                         0.19.1\n",
            "joblib                       1.2.0\n",
            "jupyter_client               8.6.0\n",
            "jupyter_core                 5.7.1\n",
            "keras                        2.15.0\n",
            "kiwisolver                   1.4.4\n",
            "libclang                     16.0.6\n",
            "Markdown                     3.5.2\n",
            "markdown-it-py               3.0.0\n",
            "MarkupSafe                   2.1.4\n",
            "matplotlib                   3.7.1\n",
            "matplotlib-inline            0.1.6\n",
            "mdurl                        0.1.2\n",
            "ml-dtypes                    0.2.0\n",
            "mlxtend                      0.23.1\n",
            "namex                        0.0.7\n",
            "nest-asyncio                 1.5.8\n",
            "numpy                        1.24.2\n",
            "oauthlib                     3.2.2\n",
            "opencv-python                4.9.0.80\n",
            "opt-einsum                   3.3.0\n",
            "packaging                    23.0\n",
            "pandas                       2.1.4\n",
            "parso                        0.8.3\n",
            "Pillow                       9.4.0\n",
            "pip                          23.3.2\n",
            "platformdirs                 4.1.0\n",
            "prompt-toolkit               3.0.43\n",
            "protobuf                     4.23.4\n",
            "psutil                       5.9.7\n",
            "pure-eval                    0.2.2\n",
            "pyasn1                       0.5.1\n",
            "pyasn1-modules               0.3.0\n",
            "Pygments                     2.17.2\n",
            "pyparsing                    3.0.9\n",
            "python-dateutil              2.8.2\n",
            "pytz                         2023.3.post1\n",
            "pywin32                      306\n",
            "pyzmq                        25.1.2\n",
            "requests                     2.31.0\n",
            "requests-oauthlib            1.3.1\n",
            "rich                         13.7.0\n",
            "rsa                          4.9\n",
            "scikit-learn                 1.2.2\n",
            "scipy                        1.10.1\n",
            "six                          1.16.0\n",
            "sklearn                      0.0.post4\n",
            "split-folders                0.5.1\n",
            "stack-data                   0.6.3\n",
            "tensorboard                  2.15.1\n",
            "tensorboard-data-server      0.7.2\n",
            "tensorflow                   2.15.0\n",
            "tensorflow-estimator         2.15.0\n",
            "tensorflow-intel             2.15.0\n",
            "tensorflow-io-gcs-filesystem 0.31.0\n",
            "termcolor                    2.4.0\n",
            "threadpoolctl                3.1.0\n",
            "tornado                      6.4\n",
            "traitlets                    5.14.1\n",
            "typing_extensions            4.9.0\n",
            "tzdata                       2023.4\n",
            "urllib3                      2.1.0\n",
            "wcwidth                      0.2.13\n",
            "Werkzeug                     3.0.1\n",
            "wheel                        0.42.0\n",
            "wrapt                        1.14.1\n"
          ]
        }
      ],
      "source": [
        "!pip list"
      ]
    },
    {
      "cell_type": "code",
      "execution_count": 4,
      "metadata": {
        "id": "y_kjI2bK76hG"
      },
      "outputs": [
        {
          "name": "stdout",
          "output_type": "stream",
          "text": [
            "WARNING:tensorflow:From C:\\Users\\Marcin\\AppData\\Local\\Packages\\PythonSoftwareFoundation.Python.3.11_qbz5n2kfra8p0\\LocalCache\\local-packages\\Python311\\site-packages\\keras\\src\\losses.py:2976: The name tf.losses.sparse_softmax_cross_entropy is deprecated. Please use tf.compat.v1.losses.sparse_softmax_cross_entropy instead.\n",
            "\n"
          ]
        }
      ],
      "source": [
        "import tensorflow as tf\n",
        "import os\n",
        "#from google.colab import drive\n",
        "import numpy as np\n",
        "from matplotlib import pyplot as plt"
      ]
    },
    {
      "cell_type": "code",
      "execution_count": 9,
      "metadata": {
        "id": "15ZNr2YC79oA"
      },
      "outputs": [],
      "source": [
        "# Avoid OOM errors by setting GPU Memory Consumption Growth\n",
        "gpus = tf.config.experimental.list_physical_devices('GPU')\n",
        "for gpu in gpus:\n",
        "    tf.config.experimental.set_memory_growth(gpu, True)"
      ]
    },
    {
      "cell_type": "code",
      "execution_count": 10,
      "metadata": {
        "colab": {
          "base_uri": "https://localhost:8080/"
        },
        "id": "RV6eMtzA7_O7",
        "outputId": "a9e13db2-c961-4bec-c9f5-5b2b425e509c"
      },
      "outputs": [
        {
          "data": {
            "text/plain": [
              "[]"
            ]
          },
          "execution_count": 10,
          "metadata": {},
          "output_type": "execute_result"
        }
      ],
      "source": [
        "tf.config.list_physical_devices('GPU')"
      ]
    },
    {
      "cell_type": "markdown",
      "metadata": {
        "id": "Nm7pgPOpRNj1"
      },
      "source": [
        "### **Split data**\n",
        "\n",
        "Initial dataset consist of 2 classes *('FAKE', 'REAL')*, each class consist of **60 000** images.\n",
        "\n",
        "The data was split into three folders using below mentioned script.\n",
        "\n",
        "**85%** - **TRAIN** data, **10%** - **VALIDATION** data, **5%** - **TEST** data"
      ]
    },
    {
      "cell_type": "code",
      "execution_count": 11,
      "metadata": {
        "id": "h6xBBVuyRkYD"
      },
      "outputs": [
        {
          "name": "stdout",
          "output_type": "stream",
          "text": [
            "Requirement already satisfied: split-folders in c:\\users\\marcin\\appdata\\local\\packages\\pythonsoftwarefoundation.python.3.11_qbz5n2kfra8p0\\localcache\\local-packages\\python311\\site-packages (0.5.1)\n"
          ]
        }
      ],
      "source": [
        "!pip install split-folders"
      ]
    },
    {
      "cell_type": "code",
      "execution_count": 22,
      "metadata": {
        "id": "HyQ5pz7nRkYF"
      },
      "outputs": [],
      "source": [
        "import splitfolders\n",
        "\n",
        "# splitfolders.ratio(\"data\", # The location of dataset\n",
        "#                    output=\"ai_real_dataset\", # The output location\n",
        "#                    seed=42, # The number of seed\n",
        "#                    ratio=(.85, .10, .05), # The ratio of splited dataset\n",
        "#                    group_prefix=None, # If your dataset contains more than one file like \".jpg\", \".pdf\", etc\n",
        "#                    move=False # If you choose to move, turn this into True\n",
        "#                    )\n",
        "\n",
        "splitfolders.ratio(\"C:/Users/Marcin/Desktop/ISA_II/GSN/data/\",\n",
        "                   output=\"C:/Users/Marcin/Desktop/ISA_II/GSN/output/\",\n",
        "                   seed=42,\n",
        "                   ratio=(.85, .1, .05),\n",
        "                   group_prefix=None,\n",
        "                   move=False)"
      ]
    },
    {
      "cell_type": "markdown",
      "metadata": {
        "id": "70aYo3a7V9CS"
      },
      "source": [
        "## Load dataset from drive (valid only in COLAB)"
      ]
    },
    {
      "cell_type": "code",
      "execution_count": 13,
      "metadata": {
        "colab": {
          "base_uri": "https://localhost:8080/"
        },
        "id": "hgiblhSB9xEU",
        "outputId": "90a37b48-a6ec-4dd7-b083-a8a112bb314c"
      },
      "outputs": [],
      "source": [
        "#drive.mount('/content/drive')\n",
        "#!unzip -uq \"/content/drive/My Drive/ai_real_dataset.zip\" -d \"/content\""
      ]
    },
    {
      "cell_type": "markdown",
      "metadata": {
        "id": "m4HenYuCWB_M"
      },
      "source": [
        "## Initiate Keras datasets from the uploaded files"
      ]
    },
    {
      "cell_type": "code",
      "execution_count": 23,
      "metadata": {
        "id": "m3fyAdMcLHJv"
      },
      "outputs": [],
      "source": [
        "base='C:/Users/Marcin/Desktop/ISA_II/GSN/output'\n",
        "train_dir = os.path.join(base, 'train')\n",
        "validation_dir = os.path.join(base, 'val')\n",
        "test_dir = os.path.join(base, 'test')"
      ]
    },
    {
      "cell_type": "markdown",
      "metadata": {},
      "source": [
        "Define batch size, image size and matrix shape"
      ]
    },
    {
      "cell_type": "code",
      "execution_count": 25,
      "metadata": {
        "id": "yWWVRCi_LY7t"
      },
      "outputs": [],
      "source": [
        "BATCH_SIZE = 128\n",
        "IMG_SIZE = (32, 32)\n",
        "IMG_SHAPE = IMG_SIZE + (3,)"
      ]
    },
    {
      "cell_type": "code",
      "execution_count": 26,
      "metadata": {
        "colab": {
          "base_uri": "https://localhost:8080/"
        },
        "id": "zlu0RDb-LKyS",
        "outputId": "e00556a0-9554-4ec3-d828-a7a64e694bc8"
      },
      "outputs": [
        {
          "name": "stdout",
          "output_type": "stream",
          "text": [
            "Found 102000 files belonging to 2 classes.\n"
          ]
        }
      ],
      "source": [
        "train_dataset = tf.keras.utils.image_dataset_from_directory(train_dir,\n",
        "                                                            shuffle=True,\n",
        "                                                            batch_size=BATCH_SIZE,\n",
        "                                                            image_size=IMG_SIZE)"
      ]
    },
    {
      "cell_type": "code",
      "execution_count": 27,
      "metadata": {
        "colab": {
          "base_uri": "https://localhost:8080/"
        },
        "id": "iD6PLONsLOTy",
        "outputId": "d7f1c170-4a12-44d7-8734-80eb91fbf30e"
      },
      "outputs": [
        {
          "name": "stdout",
          "output_type": "stream",
          "text": [
            "Found 12000 files belonging to 2 classes.\n"
          ]
        }
      ],
      "source": [
        "validation_dataset = tf.keras.utils.image_dataset_from_directory(validation_dir,\n",
        "                                                                 shuffle=True,\n",
        "                                                                 batch_size=BATCH_SIZE,\n",
        "                                                                 image_size=IMG_SIZE)"
      ]
    },
    {
      "cell_type": "code",
      "execution_count": 28,
      "metadata": {
        "colab": {
          "base_uri": "https://localhost:8080/"
        },
        "id": "H8QMTgkDLOJo",
        "outputId": "feecb8da-b4f3-4e85-a8bd-f2dfcb091c64"
      },
      "outputs": [
        {
          "name": "stdout",
          "output_type": "stream",
          "text": [
            "Found 6000 files belonging to 2 classes.\n"
          ]
        }
      ],
      "source": [
        "test_dataset = tf.keras.utils.image_dataset_from_directory(test_dir,\n",
        "                                                                 batch_size=BATCH_SIZE,\n",
        "                                                                 image_size=IMG_SIZE)"
      ]
    },
    {
      "cell_type": "markdown",
      "metadata": {
        "id": "tpoPD6nJZmXW"
      },
      "source": [
        "## Plot images"
      ]
    },
    {
      "cell_type": "code",
      "execution_count": 29,
      "metadata": {
        "colab": {
          "base_uri": "https://localhost:8080/",
          "height": 462
        },
        "id": "zy5_w21eLqDB",
        "outputId": "d2b10aee-775a-467c-be74-d7f77ff9e27f"
      },
      "outputs": [
        {
          "name": "stdout",
          "output_type": "stream",
          "text": [
            "['FAKE', 'REAL']\n"
          ]
        },
        {
          "data": {
            "image/png": "[encoded data removed]",
            "text/plain": [
              "<Figure size 500x500 with 9 Axes>"
            ]
          },
          "metadata": {},
          "output_type": "display_data"
        }
      ],
      "source": [
        "class_names = train_dataset.class_names\n",
        "print(class_names)\n",
        "plt.figure(figsize=(5, 5))\n",
        "for images, labels in train_dataset.take(1):\n",
        "  for i in range(9):\n",
        "    ax = plt.subplot(3, 3, i + 1)\n",
        "    plt.imshow(images[i].numpy().astype(\"uint8\"))\n",
        "    plt.title(class_names[labels[i]])\n",
        "    plt.axis(\"off\")"
      ]
    },
    {
      "cell_type": "code",
      "execution_count": 30,
      "metadata": {
        "colab": {
          "base_uri": "https://localhost:8080/"
        },
        "id": "J1GFeFEMMaI6",
        "outputId": "c3aea193-5963-4c6c-82cb-a8af476b6678"
      },
      "outputs": [
        {
          "name": "stdout",
          "output_type": "stream",
          "text": [
            "Number of train batches: 797\n",
            "Number of validation batches: 94\n",
            "Number of test batches: 47\n"
          ]
        }
      ],
      "source": [
        "print('Number of train batches: %d' % tf.data.experimental.cardinality(train_dataset))\n",
        "print('Number of validation batches: %d' % tf.data.experimental.cardinality(validation_dataset))\n",
        "print('Number of test batches: %d' % tf.data.experimental.cardinality(test_dataset))"
      ]
    },
    {
      "cell_type": "markdown",
      "metadata": {
        "id": "8QqN7gMMa_Ff"
      },
      "source": [
        "#### Optimize data loading performance"
      ]
    },
    {
      "cell_type": "code",
      "execution_count": 31,
      "metadata": {
        "id": "9NlyOy-7Mpze"
      },
      "outputs": [],
      "source": [
        "AUTOTUNE = tf.data.AUTOTUNE\n",
        "\n",
        "train_dataset = train_dataset.prefetch(buffer_size=AUTOTUNE)\n",
        "validation_dataset = validation_dataset.prefetch(buffer_size=AUTOTUNE)\n",
        "test_dataset = test_dataset.prefetch(buffer_size=AUTOTUNE)"
      ]
    },
    {
      "cell_type": "markdown",
      "metadata": {
        "id": "5RBZ5KocaCYA"
      },
      "source": [
        "# **Data augmentation**"
      ]
    },
    {
      "cell_type": "markdown",
      "metadata": {
        "id": "zL1MgU2oeJiE"
      },
      "source": [
        "## Augmentation layers\n",
        "\n",
        "* **tf.keras.layers.RandomContrast(0.7):** randomly adjusts the contrast of images by a factor of 0.7, introducing variation in image appearance.\n",
        "\n",
        "* **tf.keras.layers.RandomFlip('horizontal')**: randomly flips images horizontally, creating mirrored versions of the original images.\n",
        "\n",
        "* **tf.keras.layers.RandomRotation(0.2)**: randomly rotates images by up to 0.2 radians, adding rotation-based diversity to the dataset.\n",
        "\n",
        "* **tf.keras.layers.RandomZoom(0.3, 0.2)**: randomly zooms in or out on images, with zoom factors ranging from 0.3 to 0.2."
      ]
    },
    {
      "cell_type": "code",
      "execution_count": 32,
      "metadata": {
        "id": "J12POTdAOPiV"
      },
      "outputs": [
        {
          "name": "stdout",
          "output_type": "stream",
          "text": [
            "WARNING:tensorflow:From C:\\Users\\Marcin\\AppData\\Local\\Packages\\PythonSoftwareFoundation.Python.3.11_qbz5n2kfra8p0\\LocalCache\\local-packages\\Python311\\site-packages\\keras\\src\\backend.py:873: The name tf.get_default_graph is deprecated. Please use tf.compat.v1.get_default_graph instead.\n",
            "\n"
          ]
        }
      ],
      "source": [
        "data_augmentation = tf.keras.Sequential([\n",
        "  tf.keras.layers.RandomContrast(0.7),\n",
        "  tf.keras.layers.RandomFlip('horizontal'),\n",
        "  tf.keras.layers.RandomRotation(0.2),\n",
        "  tf.keras.layers.RandomZoom(0.3, 0.2),\n",
        "])"
      ]
    },
    {
      "cell_type": "markdown",
      "metadata": {
        "id": "uy1-wvNog8oJ"
      },
      "source": [
        "## Augmentation visualization"
      ]
    },
    {
      "cell_type": "code",
      "execution_count": 33,
      "metadata": {
        "colab": {
          "base_uri": "https://localhost:8080/",
          "height": 807
        },
        "id": "xdaRPE87POaQ",
        "outputId": "6ae5fd61-6892-4368-b80f-8702526cd6ed"
      },
      "outputs": [
        {
          "data": {
            "image/png": "[encoded data removed]",
            "text/plain": [
              "<Figure size 1000x1000 with 9 Axes>"
            ]
          },
          "metadata": {},
          "output_type": "display_data"
        }
      ],
      "source": [
        "for image, _ in train_dataset.take(1):\n",
        "  plt.figure(figsize=(10, 10))\n",
        "  first_image = image[0]\n",
        "  for i in range(9):\n",
        "    ax = plt.subplot(3, 3, i + 1)\n",
        "    augmented_image = data_augmentation(tf.expand_dims(first_image, 0))\n",
        "    plt.imshow(augmented_image[0] / 255)\n",
        "    plt.axis('off')"
      ]
    },
    {
      "cell_type": "markdown",
      "metadata": {
        "id": "ZlzG1caw5lg3"
      },
      "source": [
        "## **CNN**"
      ]
    },
    {
      "cell_type": "markdown",
      "metadata": {
        "id": "ogNMKWmg6voF"
      },
      "source": [
        "### Import libraries"
      ]
    },
    {
      "cell_type": "code",
      "execution_count": 47,
      "metadata": {
        "id": "WPK_gBCn502U"
      },
      "outputs": [],
      "source": [
        "from tensorflow.keras.models import Sequential\n",
        "from tensorflow.keras.models import Model, Sequential\n",
        "from keras.activations import relu\n",
        "from tensorflow.keras import layers\n",
        "from tensorflow.keras.applications.efficientnet import preprocess_input"
      ]
    },
    {
      "cell_type": "markdown",
      "metadata": {
        "id": "lM7n6mVM7r0B"
      },
      "source": [
        "### Build a model"
      ]
    },
    {
      "cell_type": "code",
      "execution_count": 90,
      "metadata": {
        "id": "cVSMrrVO8AUh"
      },
      "outputs": [],
      "source": [
        "# Define the model\n",
        "model1 = tf.keras.Sequential()\n",
        "\n",
        "# Convolutional layers\n",
        "model1.add(layers.Conv2D(16, (3, 3), activation='relu', input_shape=IMG_SHAPE))\n",
        "model1.add(layers.MaxPooling2D((2, 2)))\n",
        "model1.add(layers.Conv2D(32, (3, 3), activation='relu'))\n",
        "model1.add(layers.MaxPooling2D((2, 2)))\n",
        "model1.add(layers.Conv2D(64, (3, 3), activation='relu'))\n",
        "model1.add(layers.MaxPooling2D((2, 2)))\n",
        "\n",
        "# Flatten layer\n",
        "model1.add(layers.Flatten())\n",
        "\n",
        "# Dense layers\n",
        "model1.add(layers.Dense(64, activation='relu'))\n",
        "model1.add(layers.Dropout(0.5))  # Optional dropout for regularization\n",
        "model1.add(layers.Dense(1, activation='sigmoid'))  # Output layer with 1 neuron (binary classification)"
      ]
    },
    {
      "cell_type": "markdown",
      "metadata": {
        "id": "zGAJohO09eC3"
      },
      "source": [
        "### Compile the model"
      ]
    },
    {
      "cell_type": "code",
      "execution_count": 91,
      "metadata": {
        "id": "DMcYsmyx9kDt"
      },
      "outputs": [],
      "source": [
        "model1.compile(optimizer='adam', loss='binary_crossentropy', metrics=['accuracy'])"
      ]
    },
    {
      "cell_type": "markdown",
      "metadata": {
        "id": "QFShtk3V9sli"
      },
      "source": [
        "### Model summary"
      ]
    },
    {
      "cell_type": "code",
      "execution_count": 92,
      "metadata": {
        "colab": {
          "base_uri": "https://localhost:8080/"
        },
        "id": "3lkf_UIa9sRN",
        "outputId": "4dea5fc5-704d-4ed9-df27-42f767eb6f66"
      },
      "outputs": [
        {
          "name": "stdout",
          "output_type": "stream",
          "text": [
            "Model: \"sequential_2\"\n",
            "_________________________________________________________________\n",
            " Layer (type)                Output Shape              Param #   \n",
            "=================================================================\n",
            " conv2d_3 (Conv2D)           (None, 30, 30, 16)        448       \n",
            "                                                                 \n",
            " max_pooling2d_3 (MaxPoolin  (None, 15, 15, 16)        0         \n",
            " g2D)                                                            \n",
            "                                                                 \n",
            " conv2d_4 (Conv2D)           (None, 13, 13, 32)        4640      \n",
            "                                                                 \n",
            " max_pooling2d_4 (MaxPoolin  (None, 6, 6, 32)          0         \n",
            " g2D)                                                            \n",
            "                                                                 \n",
            " conv2d_5 (Conv2D)           (None, 4, 4, 64)          18496     \n",
            "                                                                 \n",
            " max_pooling2d_5 (MaxPoolin  (None, 2, 2, 64)          0         \n",
            " g2D)                                                            \n",
            "                                                                 \n",
            " flatten_1 (Flatten)         (None, 256)               0         \n",
            "                                                                 \n",
            " dense_4 (Dense)             (None, 64)                16448     \n",
            "                                                                 \n",
            " dropout_3 (Dropout)         (None, 64)                0         \n",
            "                                                                 \n",
            " dense_5 (Dense)             (None, 1)                 65        \n",
            "                                                                 \n",
            "=================================================================\n",
            "Total params: 40097 (156.63 KB)\n",
            "Trainable params: 40097 (156.63 KB)\n",
            "Non-trainable params: 0 (0.00 Byte)\n",
            "_________________________________________________________________\n"
          ]
        }
      ],
      "source": [
        "model1.summary()"
      ]
    },
    {
      "cell_type": "markdown",
      "metadata": {},
      "source": [
        "### Data augmentation on train dataset"
      ]
    },
    {
      "cell_type": "code",
      "execution_count": 93,
      "metadata": {},
      "outputs": [
        {
          "name": "stdout",
          "output_type": "stream",
          "text": [
            "Found 102000 images belonging to 2 classes.\n"
          ]
        }
      ],
      "source": [
        "from tensorflow.keras.preprocessing.image import ImageDataGenerator\n",
        "train_datagen = ImageDataGenerator(\n",
        "        rotation_range=0.2,\n",
        "        zoom_range=0.2,\n",
        "        horizontal_flip=True,\n",
        "        shear_range=0.2)\n",
        "\n",
        "train_generator = train_datagen.flow_from_directory(\n",
        "        train_dir,  # this is the target directory\n",
        "        target_size=(32,32),  # all images will be resized to 32x32\n",
        "        batch_size=BATCH_SIZE,\n",
        "        class_mode='binary')\n",
        "\n",
        "  #tf.keras.layers.RandomContrast(0.7),"
      ]
    },
    {
      "cell_type": "markdown",
      "metadata": {},
      "source": [
        "### Creating a checkpoint callback for saving weights"
      ]
    },
    {
      "cell_type": "code",
      "execution_count": 94,
      "metadata": {},
      "outputs": [],
      "source": [
        "checkpoint_path =\"cnn/cnn-{epoch:04d}.ckpt\"\n",
        "checkpoint_dir = os.path.dirname(checkpoint_path)\n",
        "cp_callback = tf.keras.callbacks.ModelCheckpoint(filepath=checkpoint_path,save_weights_only=True,verbose=1)"
      ]
    },
    {
      "cell_type": "markdown",
      "metadata": {},
      "source": [
        "### Loading weights from the latest checkpoint (if it exists)"
      ]
    },
    {
      "cell_type": "code",
      "execution_count": 108,
      "metadata": {},
      "outputs": [
        {
          "name": "stdout",
          "output_type": "stream",
          "text": [
            "cnn\\cnn-0029.ckpt\n"
          ]
        }
      ],
      "source": [
        "latest = tf.train.latest_checkpoint(checkpoint_dir)\n",
        "print(latest)\n",
        "if(latest==None):\n",
        "    print(\"No weights to load\")\n",
        "else:\n",
        "    model1.load_weights(latest)"
      ]
    },
    {
      "cell_type": "markdown",
      "metadata": {
        "id": "FYvy9JrK-DnN"
      },
      "source": [
        "### Training model"
      ]
    },
    {
      "cell_type": "code",
      "execution_count": 44,
      "metadata": {
        "colab": {
          "base_uri": "https://localhost:8080/"
        },
        "id": "6TDTXVMW-MQ2",
        "outputId": "6f69958b-8aba-4ea0-c8ad-5afe925e041f"
      },
      "outputs": [
        {
          "name": "stdout",
          "output_type": "stream",
          "text": [
            "Epoch 1/30\n",
            "WARNING:tensorflow:From C:\\Users\\Marcin\\AppData\\Local\\Packages\\PythonSoftwareFoundation.Python.3.11_qbz5n2kfra8p0\\LocalCache\\local-packages\\Python311\\site-packages\\keras\\src\\utils\\tf_utils.py:492: The name tf.ragged.RaggedTensorValue is deprecated. Please use tf.compat.v1.ragged.RaggedTensorValue instead.\n",
            "\n",
            "WARNING:tensorflow:From C:\\Users\\Marcin\\AppData\\Local\\Packages\\PythonSoftwareFoundation.Python.3.11_qbz5n2kfra8p0\\LocalCache\\local-packages\\Python311\\site-packages\\keras\\src\\engine\\base_layer_utils.py:384: The name tf.executing_eagerly_outside_functions is deprecated. Please use tf.compat.v1.executing_eagerly_outside_functions instead.\n",
            "\n",
            "797/797 [==============================] - ETA: 0s - loss: 0.5625 - accuracy: 0.7286\n",
            "Epoch 1: saving model to cnn\\cnn-0001.ckpt\n",
            "797/797 [==============================] - 59s 73ms/step - loss: 0.5625 - accuracy: 0.7286 - val_loss: 0.4342 - val_accuracy: 0.7829\n",
            "Epoch 2/30\n",
            "797/797 [==============================] - ETA: 0s - loss: 0.4233 - accuracy: 0.8100\n",
            "Epoch 2: saving model to cnn\\cnn-0002.ckpt\n",
            "797/797 [==============================] - 63s 79ms/step - loss: 0.4233 - accuracy: 0.8100 - val_loss: 0.3753 - val_accuracy: 0.8233\n",
            "Epoch 3/30\n",
            "797/797 [==============================] - ETA: 0s - loss: 0.3819 - accuracy: 0.8341\n",
            "Epoch 3: saving model to cnn\\cnn-0003.ckpt\n",
            "797/797 [==============================] - 63s 79ms/step - loss: 0.3819 - accuracy: 0.8341 - val_loss: 0.4004 - val_accuracy: 0.8228\n",
            "Epoch 4/30\n",
            "796/797 [============================>.] - ETA: 0s - loss: 0.3554 - accuracy: 0.8490\n",
            "Epoch 4: saving model to cnn\\cnn-0004.ckpt\n",
            "797/797 [==============================] - 63s 79ms/step - loss: 0.3553 - accuracy: 0.8491 - val_loss: 0.3779 - val_accuracy: 0.8361\n",
            "Epoch 5/30\n",
            "796/797 [============================>.] - ETA: 0s - loss: 0.3428 - accuracy: 0.8555\n",
            "Epoch 5: saving model to cnn\\cnn-0005.ckpt\n",
            "797/797 [==============================] - 58s 72ms/step - loss: 0.3428 - accuracy: 0.8554 - val_loss: 0.4290 - val_accuracy: 0.8093\n",
            "Epoch 6/30\n",
            "797/797 [==============================] - ETA: 0s - loss: 0.3243 - accuracy: 0.8633\n",
            "Epoch 6: saving model to cnn\\cnn-0006.ckpt\n",
            "797/797 [==============================] - 56s 71ms/step - loss: 0.3243 - accuracy: 0.8633 - val_loss: 0.3520 - val_accuracy: 0.8518\n",
            "Epoch 7/30\n",
            "797/797 [==============================] - ETA: 0s - loss: 0.3155 - accuracy: 0.8689\n",
            "Epoch 7: saving model to cnn\\cnn-0007.ckpt\n",
            "797/797 [==============================] - 51s 65ms/step - loss: 0.3155 - accuracy: 0.8689 - val_loss: 0.3723 - val_accuracy: 0.8397\n",
            "Epoch 8/30\n",
            "797/797 [==============================] - ETA: 0s - loss: 0.3038 - accuracy: 0.8736\n",
            "Epoch 8: saving model to cnn\\cnn-0008.ckpt\n",
            "797/797 [==============================] - 54s 68ms/step - loss: 0.3038 - accuracy: 0.8736 - val_loss: 0.5033 - val_accuracy: 0.7842\n",
            "Epoch 9/30\n",
            "797/797 [==============================] - ETA: 0s - loss: 0.2985 - accuracy: 0.8760\n",
            "Epoch 9: saving model to cnn\\cnn-0009.ckpt\n",
            "797/797 [==============================] - 57s 71ms/step - loss: 0.2985 - accuracy: 0.8760 - val_loss: 0.4712 - val_accuracy: 0.8121\n",
            "Epoch 10/30\n",
            "797/797 [==============================] - ETA: 0s - loss: 0.2919 - accuracy: 0.8799\n",
            "Epoch 10: saving model to cnn\\cnn-0010.ckpt\n",
            "797/797 [==============================] - 58s 73ms/step - loss: 0.2919 - accuracy: 0.8799 - val_loss: 0.3100 - val_accuracy: 0.8707\n",
            "Epoch 11/30\n",
            "797/797 [==============================] - ETA: 0s - loss: 0.2874 - accuracy: 0.8817\n",
            "Epoch 11: saving model to cnn\\cnn-0011.ckpt\n",
            "797/797 [==============================] - 67s 84ms/step - loss: 0.2874 - accuracy: 0.8817 - val_loss: 0.3404 - val_accuracy: 0.8651\n",
            "Epoch 12/30\n",
            "797/797 [==============================] - ETA: 0s - loss: 0.2822 - accuracy: 0.8838\n",
            "Epoch 12: saving model to cnn\\cnn-0012.ckpt\n",
            "797/797 [==============================] - 74s 93ms/step - loss: 0.2822 - accuracy: 0.8838 - val_loss: 0.3999 - val_accuracy: 0.8378\n",
            "Epoch 13/30\n",
            "796/797 [============================>.] - ETA: 0s - loss: 0.2755 - accuracy: 0.8878\n",
            "Epoch 13: saving model to cnn\\cnn-0013.ckpt\n",
            "797/797 [==============================] - 71s 89ms/step - loss: 0.2755 - accuracy: 0.8878 - val_loss: 0.3976 - val_accuracy: 0.8369\n",
            "Epoch 14/30\n",
            "797/797 [==============================] - ETA: 0s - loss: 0.2745 - accuracy: 0.8882\n",
            "Epoch 14: saving model to cnn\\cnn-0014.ckpt\n",
            "797/797 [==============================] - 63s 80ms/step - loss: 0.2745 - accuracy: 0.8882 - val_loss: 0.3137 - val_accuracy: 0.8763\n",
            "Epoch 15/30\n",
            "797/797 [==============================] - ETA: 0s - loss: 0.2715 - accuracy: 0.8881\n",
            "Epoch 15: saving model to cnn\\cnn-0015.ckpt\n",
            "797/797 [==============================] - 65s 82ms/step - loss: 0.2715 - accuracy: 0.8881 - val_loss: 0.3734 - val_accuracy: 0.8425\n",
            "Epoch 16/30\n",
            "797/797 [==============================] - ETA: 0s - loss: 0.2670 - accuracy: 0.8912\n",
            "Epoch 16: saving model to cnn\\cnn-0016.ckpt\n",
            "797/797 [==============================] - 66s 83ms/step - loss: 0.2670 - accuracy: 0.8912 - val_loss: 0.2689 - val_accuracy: 0.8932\n",
            "Epoch 17/30\n",
            "797/797 [==============================] - ETA: 0s - loss: 0.2621 - accuracy: 0.8922\n",
            "Epoch 17: saving model to cnn\\cnn-0017.ckpt\n",
            "797/797 [==============================] - 67s 85ms/step - loss: 0.2621 - accuracy: 0.8922 - val_loss: 0.2940 - val_accuracy: 0.8913\n",
            "Epoch 18/30\n",
            "796/797 [============================>.] - ETA: 0s - loss: 0.2564 - accuracy: 0.8960\n",
            "Epoch 18: saving model to cnn\\cnn-0018.ckpt\n",
            "797/797 [==============================] - 67s 84ms/step - loss: 0.2564 - accuracy: 0.8960 - val_loss: 0.3105 - val_accuracy: 0.8728\n",
            "Epoch 19/30\n",
            "796/797 [============================>.] - ETA: 0s - loss: 0.2561 - accuracy: 0.8963\n",
            "Epoch 19: saving model to cnn\\cnn-0019.ckpt\n",
            "797/797 [==============================] - 67s 84ms/step - loss: 0.2561 - accuracy: 0.8963 - val_loss: 0.2852 - val_accuracy: 0.8882\n",
            "Epoch 20/30\n",
            "797/797 [==============================] - ETA: 0s - loss: 0.2531 - accuracy: 0.8977\n",
            "Epoch 20: saving model to cnn\\cnn-0020.ckpt\n",
            "797/797 [==============================] - 52s 66ms/step - loss: 0.2531 - accuracy: 0.8977 - val_loss: 0.3919 - val_accuracy: 0.8493\n",
            "Epoch 21/30\n",
            "797/797 [==============================] - ETA: 0s - loss: 0.2496 - accuracy: 0.8991\n",
            "Epoch 21: saving model to cnn\\cnn-0021.ckpt\n",
            "797/797 [==============================] - 56s 70ms/step - loss: 0.2496 - accuracy: 0.8991 - val_loss: 0.5729 - val_accuracy: 0.7948\n",
            "Epoch 22/30\n",
            "797/797 [==============================] - ETA: 0s - loss: 0.2490 - accuracy: 0.8999\n",
            "Epoch 22: saving model to cnn\\cnn-0022.ckpt\n",
            "797/797 [==============================] - 48s 60ms/step - loss: 0.2490 - accuracy: 0.8999 - val_loss: 0.2543 - val_accuracy: 0.8979\n",
            "Epoch 23/30\n",
            "797/797 [==============================] - ETA: 0s - loss: 0.2479 - accuracy: 0.8999\n",
            "Epoch 23: saving model to cnn\\cnn-0023.ckpt\n",
            "797/797 [==============================] - 54s 68ms/step - loss: 0.2479 - accuracy: 0.8999 - val_loss: 0.2605 - val_accuracy: 0.9003\n",
            "Epoch 24/30\n",
            "797/797 [==============================] - ETA: 0s - loss: 0.2433 - accuracy: 0.9028\n",
            "Epoch 24: saving model to cnn\\cnn-0024.ckpt\n",
            "797/797 [==============================] - 54s 67ms/step - loss: 0.2433 - accuracy: 0.9028 - val_loss: 0.4370 - val_accuracy: 0.8442\n",
            "Epoch 25/30\n",
            "797/797 [==============================] - ETA: 0s - loss: 0.2419 - accuracy: 0.9032\n",
            "Epoch 25: saving model to cnn\\cnn-0025.ckpt\n",
            "797/797 [==============================] - 55s 69ms/step - loss: 0.2419 - accuracy: 0.9032 - val_loss: 0.2579 - val_accuracy: 0.9017\n",
            "Epoch 26/30\n",
            "796/797 [============================>.] - ETA: 0s - loss: 0.2386 - accuracy: 0.9044\n",
            "Epoch 26: saving model to cnn\\cnn-0026.ckpt\n",
            "797/797 [==============================] - 64s 80ms/step - loss: 0.2387 - accuracy: 0.9044 - val_loss: 0.4735 - val_accuracy: 0.8273\n",
            "Epoch 27/30\n",
            "797/797 [==============================] - ETA: 0s - loss: 0.2398 - accuracy: 0.9037\n",
            "Epoch 27: saving model to cnn\\cnn-0027.ckpt\n",
            "797/797 [==============================] - 64s 80ms/step - loss: 0.2398 - accuracy: 0.9037 - val_loss: 0.3025 - val_accuracy: 0.8878\n",
            "Epoch 28/30\n",
            "797/797 [==============================] - ETA: 0s - loss: 0.2351 - accuracy: 0.9056\n",
            "Epoch 28: saving model to cnn\\cnn-0028.ckpt\n",
            "797/797 [==============================] - 60s 76ms/step - loss: 0.2351 - accuracy: 0.9056 - val_loss: 0.2903 - val_accuracy: 0.8860\n",
            "Epoch 29/30\n",
            "797/797 [==============================] - ETA: 0s - loss: 0.2359 - accuracy: 0.9055\n",
            "Epoch 29: saving model to cnn\\cnn-0029.ckpt\n",
            "797/797 [==============================] - 55s 70ms/step - loss: 0.2359 - accuracy: 0.9055 - val_loss: 0.2473 - val_accuracy: 0.9031\n",
            "Epoch 30/30\n",
            "797/797 [==============================] - ETA: 0s - loss: 0.2308 - accuracy: 0.9070\n",
            "Epoch 30: saving model to cnn\\cnn-0030.ckpt\n",
            "797/797 [==============================] - 54s 68ms/step - loss: 0.2308 - accuracy: 0.9070 - val_loss: 0.3713 - val_accuracy: 0.8635\n"
          ]
        }
      ],
      "source": [
        "#history1 = model1.fit(train_dataset,\n",
        "history1 = model1.fit(train_generator,\n",
        "                    epochs=30,\n",
        "                    validation_data=validation_dataset,\n",
        "                    callbacks=[cp_callback])"
      ]
    },
    {
      "cell_type": "markdown",
      "metadata": {
        "id": "BWeGaGi-Pimq"
      },
      "source": [
        "## **EficientNet**"
      ]
    },
    {
      "cell_type": "code",
      "execution_count": 51,
      "metadata": {
        "colab": {
          "base_uri": "https://localhost:8080/"
        },
        "id": "ImfBDcBwPpoq",
        "outputId": "435f768c-4e54-4f47-dc81-b283b5e870f2"
      },
      "outputs": [],
      "source": [
        "from tensorflow.keras.applications import EfficientNetB0\n",
        "base_model = EfficientNetB0(weights=\"imagenet\", include_top=False, input_shape = IMG_SHAPE)"
      ]
    },
    {
      "cell_type": "markdown",
      "metadata": {},
      "source": [
        "#### Freezing early layers"
      ]
    },
    {
      "cell_type": "code",
      "execution_count": 53,
      "metadata": {
        "id": "xUzYIvP_P_1u"
      },
      "outputs": [],
      "source": [
        "#base_model.trainable = False\n",
        "\n",
        "for layer in base_model.layers[:230]:\n",
        "\t\tlayer.trainable = False\n",
        "\n",
        "# for layer in base_model.layers[18:]:\n",
        "# \t\tlayer.trainable = True"
      ]
    },
    {
      "cell_type": "markdown",
      "metadata": {},
      "source": [
        "#### Summarizing the model"
      ]
    },
    {
      "cell_type": "code",
      "execution_count": 54,
      "metadata": {
        "id": "00bt6KiDP_zZ"
      },
      "outputs": [
        {
          "name": "stdout",
          "output_type": "stream",
          "text": [
            "Model: \"efficientnetb0\"\n",
            "__________________________________________________________________________________________________\n",
            " Layer (type)                Output Shape                 Param #   Connected to                  \n",
            "==================================================================================================\n",
            " input_9 (InputLayer)        [(None, 32, 32, 3)]          0         []                            \n",
            "                                                                                                  \n",
            " rescaling_16 (Rescaling)    (None, 32, 32, 3)            0         ['input_9[0][0]']             \n",
            "                                                                                                  \n",
            " normalization_8 (Normaliza  (None, 32, 32, 3)            7         ['rescaling_16[0][0]']        \n",
            " tion)                                                                                            \n",
            "                                                                                                  \n",
            " rescaling_17 (Rescaling)    (None, 32, 32, 3)            0         ['normalization_8[0][0]']     \n",
            "                                                                                                  \n",
            " stem_conv_pad (ZeroPadding  (None, 33, 33, 3)            0         ['rescaling_17[0][0]']        \n",
            " 2D)                                                                                              \n",
            "                                                                                                  \n",
            " stem_conv (Conv2D)          (None, 16, 16, 32)           864       ['stem_conv_pad[0][0]']       \n",
            "                                                                                                  \n",
            " stem_bn (BatchNormalizatio  (None, 16, 16, 32)           128       ['stem_conv[0][0]']           \n",
            " n)                                                                                               \n",
            "                                                                                                  \n",
            " stem_activation (Activatio  (None, 16, 16, 32)           0         ['stem_bn[0][0]']             \n",
            " n)                                                                                               \n",
            "                                                                                                  \n",
            " block1a_dwconv (DepthwiseC  (None, 16, 16, 32)           288       ['stem_activation[0][0]']     \n",
            " onv2D)                                                                                           \n",
            "                                                                                                  \n",
            " block1a_bn (BatchNormaliza  (None, 16, 16, 32)           128       ['block1a_dwconv[0][0]']      \n",
            " tion)                                                                                            \n",
            "                                                                                                  \n",
            " block1a_activation (Activa  (None, 16, 16, 32)           0         ['block1a_bn[0][0]']          \n",
            " tion)                                                                                            \n",
            "                                                                                                  \n",
            " block1a_se_squeeze (Global  (None, 32)                   0         ['block1a_activation[0][0]']  \n",
            " AveragePooling2D)                                                                                \n",
            "                                                                                                  \n",
            " block1a_se_reshape (Reshap  (None, 1, 1, 32)             0         ['block1a_se_squeeze[0][0]']  \n",
            " e)                                                                                               \n",
            "                                                                                                  \n",
            " block1a_se_reduce (Conv2D)  (None, 1, 1, 8)              264       ['block1a_se_reshape[0][0]']  \n",
            "                                                                                                  \n",
            " block1a_se_expand (Conv2D)  (None, 1, 1, 32)             288       ['block1a_se_reduce[0][0]']   \n",
            "                                                                                                  \n",
            " block1a_se_excite (Multipl  (None, 16, 16, 32)           0         ['block1a_activation[0][0]',  \n",
            " y)                                                                  'block1a_se_expand[0][0]']   \n",
            "                                                                                                  \n",
            " block1a_project_conv (Conv  (None, 16, 16, 16)           512       ['block1a_se_excite[0][0]']   \n",
            " 2D)                                                                                              \n",
            "                                                                                                  \n",
            " block1a_project_bn (BatchN  (None, 16, 16, 16)           64        ['block1a_project_conv[0][0]']\n",
            " ormalization)                                                                                    \n",
            "                                                                                                  \n",
            " block2a_expand_conv (Conv2  (None, 16, 16, 96)           1536      ['block1a_project_bn[0][0]']  \n",
            " D)                                                                                               \n",
            "                                                                                                  \n",
            " block2a_expand_bn (BatchNo  (None, 16, 16, 96)           384       ['block2a_expand_conv[0][0]'] \n",
            " rmalization)                                                                                     \n",
            "                                                                                                  \n",
            " block2a_expand_activation   (None, 16, 16, 96)           0         ['block2a_expand_bn[0][0]']   \n",
            " (Activation)                                                                                     \n",
            "                                                                                                  \n",
            " block2a_dwconv_pad (ZeroPa  (None, 17, 17, 96)           0         ['block2a_expand_activation[0]\n",
            " dding2D)                                                           [0]']                         \n",
            "                                                                                                  \n",
            " block2a_dwconv (DepthwiseC  (None, 8, 8, 96)             864       ['block2a_dwconv_pad[0][0]']  \n",
            " onv2D)                                                                                           \n",
            "                                                                                                  \n",
            " block2a_bn (BatchNormaliza  (None, 8, 8, 96)             384       ['block2a_dwconv[0][0]']      \n",
            " tion)                                                                                            \n",
            "                                                                                                  \n",
            " block2a_activation (Activa  (None, 8, 8, 96)             0         ['block2a_bn[0][0]']          \n",
            " tion)                                                                                            \n",
            "                                                                                                  \n",
            " block2a_se_squeeze (Global  (None, 96)                   0         ['block2a_activation[0][0]']  \n",
            " AveragePooling2D)                                                                                \n",
            "                                                                                                  \n",
            " block2a_se_reshape (Reshap  (None, 1, 1, 96)             0         ['block2a_se_squeeze[0][0]']  \n",
            " e)                                                                                               \n",
            "                                                                                                  \n",
            " block2a_se_reduce (Conv2D)  (None, 1, 1, 4)              388       ['block2a_se_reshape[0][0]']  \n",
            "                                                                                                  \n",
            " block2a_se_expand (Conv2D)  (None, 1, 1, 96)             480       ['block2a_se_reduce[0][0]']   \n",
            "                                                                                                  \n",
            " block2a_se_excite (Multipl  (None, 8, 8, 96)             0         ['block2a_activation[0][0]',  \n",
            " y)                                                                  'block2a_se_expand[0][0]']   \n",
            "                                                                                                  \n",
            " block2a_project_conv (Conv  (None, 8, 8, 24)             2304      ['block2a_se_excite[0][0]']   \n",
            " 2D)                                                                                              \n",
            "                                                                                                  \n",
            " block2a_project_bn (BatchN  (None, 8, 8, 24)             96        ['block2a_project_conv[0][0]']\n",
            " ormalization)                                                                                    \n",
            "                                                                                                  \n",
            " block2b_expand_conv (Conv2  (None, 8, 8, 144)            3456      ['block2a_project_bn[0][0]']  \n",
            " D)                                                                                               \n",
            "                                                                                                  \n",
            " block2b_expand_bn (BatchNo  (None, 8, 8, 144)            576       ['block2b_expand_conv[0][0]'] \n",
            " rmalization)                                                                                     \n",
            "                                                                                                  \n",
            " block2b_expand_activation   (None, 8, 8, 144)            0         ['block2b_expand_bn[0][0]']   \n",
            " (Activation)                                                                                     \n",
            "                                                                                                  \n",
            " block2b_dwconv (DepthwiseC  (None, 8, 8, 144)            1296      ['block2b_expand_activation[0]\n",
            " onv2D)                                                             [0]']                         \n",
            "                                                                                                  \n",
            " block2b_bn (BatchNormaliza  (None, 8, 8, 144)            576       ['block2b_dwconv[0][0]']      \n",
            " tion)                                                                                            \n",
            "                                                                                                  \n",
            " block2b_activation (Activa  (None, 8, 8, 144)            0         ['block2b_bn[0][0]']          \n",
            " tion)                                                                                            \n",
            "                                                                                                  \n",
            " block2b_se_squeeze (Global  (None, 144)                  0         ['block2b_activation[0][0]']  \n",
            " AveragePooling2D)                                                                                \n",
            "                                                                                                  \n",
            " block2b_se_reshape (Reshap  (None, 1, 1, 144)            0         ['block2b_se_squeeze[0][0]']  \n",
            " e)                                                                                               \n",
            "                                                                                                  \n",
            " block2b_se_reduce (Conv2D)  (None, 1, 1, 6)              870       ['block2b_se_reshape[0][0]']  \n",
            "                                                                                                  \n",
            " block2b_se_expand (Conv2D)  (None, 1, 1, 144)            1008      ['block2b_se_reduce[0][0]']   \n",
            "                                                                                                  \n",
            " block2b_se_excite (Multipl  (None, 8, 8, 144)            0         ['block2b_activation[0][0]',  \n",
            " y)                                                                  'block2b_se_expand[0][0]']   \n",
            "                                                                                                  \n",
            " block2b_project_conv (Conv  (None, 8, 8, 24)             3456      ['block2b_se_excite[0][0]']   \n",
            " 2D)                                                                                              \n",
            "                                                                                                  \n",
            " block2b_project_bn (BatchN  (None, 8, 8, 24)             96        ['block2b_project_conv[0][0]']\n",
            " ormalization)                                                                                    \n",
            "                                                                                                  \n",
            " block2b_drop (Dropout)      (None, 8, 8, 24)             0         ['block2b_project_bn[0][0]']  \n",
            "                                                                                                  \n",
            " block2b_add (Add)           (None, 8, 8, 24)             0         ['block2b_drop[0][0]',        \n",
            "                                                                     'block2a_project_bn[0][0]']  \n",
            "                                                                                                  \n",
            " block3a_expand_conv (Conv2  (None, 8, 8, 144)            3456      ['block2b_add[0][0]']         \n",
            " D)                                                                                               \n",
            "                                                                                                  \n",
            " block3a_expand_bn (BatchNo  (None, 8, 8, 144)            576       ['block3a_expand_conv[0][0]'] \n",
            " rmalization)                                                                                     \n",
            "                                                                                                  \n",
            " block3a_expand_activation   (None, 8, 8, 144)            0         ['block3a_expand_bn[0][0]']   \n",
            " (Activation)                                                                                     \n",
            "                                                                                                  \n",
            " block3a_dwconv_pad (ZeroPa  (None, 11, 11, 144)          0         ['block3a_expand_activation[0]\n",
            " dding2D)                                                           [0]']                         \n",
            "                                                                                                  \n",
            " block3a_dwconv (DepthwiseC  (None, 4, 4, 144)            3600      ['block3a_dwconv_pad[0][0]']  \n",
            " onv2D)                                                                                           \n",
            "                                                                                                  \n",
            " block3a_bn (BatchNormaliza  (None, 4, 4, 144)            576       ['block3a_dwconv[0][0]']      \n",
            " tion)                                                                                            \n",
            "                                                                                                  \n",
            " block3a_activation (Activa  (None, 4, 4, 144)            0         ['block3a_bn[0][0]']          \n",
            " tion)                                                                                            \n",
            "                                                                                                  \n",
            " block3a_se_squeeze (Global  (None, 144)                  0         ['block3a_activation[0][0]']  \n",
            " AveragePooling2D)                                                                                \n",
            "                                                                                                  \n",
            " block3a_se_reshape (Reshap  (None, 1, 1, 144)            0         ['block3a_se_squeeze[0][0]']  \n",
            " e)                                                                                               \n",
            "                                                                                                  \n",
            " block3a_se_reduce (Conv2D)  (None, 1, 1, 6)              870       ['block3a_se_reshape[0][0]']  \n",
            "                                                                                                  \n",
            " block3a_se_expand (Conv2D)  (None, 1, 1, 144)            1008      ['block3a_se_reduce[0][0]']   \n",
            "                                                                                                  \n",
            " block3a_se_excite (Multipl  (None, 4, 4, 144)            0         ['block3a_activation[0][0]',  \n",
            " y)                                                                  'block3a_se_expand[0][0]']   \n",
            "                                                                                                  \n",
            " block3a_project_conv (Conv  (None, 4, 4, 40)             5760      ['block3a_se_excite[0][0]']   \n",
            " 2D)                                                                                              \n",
            "                                                                                                  \n",
            " block3a_project_bn (BatchN  (None, 4, 4, 40)             160       ['block3a_project_conv[0][0]']\n",
            " ormalization)                                                                                    \n",
            "                                                                                                  \n",
            " block3b_expand_conv (Conv2  (None, 4, 4, 240)            9600      ['block3a_project_bn[0][0]']  \n",
            " D)                                                                                               \n",
            "                                                                                                  \n",
            " block3b_expand_bn (BatchNo  (None, 4, 4, 240)            960       ['block3b_expand_conv[0][0]'] \n",
            " rmalization)                                                                                     \n",
            "                                                                                                  \n",
            " block3b_expand_activation   (None, 4, 4, 240)            0         ['block3b_expand_bn[0][0]']   \n",
            " (Activation)                                                                                     \n",
            "                                                                                                  \n",
            " block3b_dwconv (DepthwiseC  (None, 4, 4, 240)            6000      ['block3b_expand_activation[0]\n",
            " onv2D)                                                             [0]']                         \n",
            "                                                                                                  \n",
            " block3b_bn (BatchNormaliza  (None, 4, 4, 240)            960       ['block3b_dwconv[0][0]']      \n",
            " tion)                                                                                            \n",
            "                                                                                                  \n",
            " block3b_activation (Activa  (None, 4, 4, 240)            0         ['block3b_bn[0][0]']          \n",
            " tion)                                                                                            \n",
            "                                                                                                  \n",
            " block3b_se_squeeze (Global  (None, 240)                  0         ['block3b_activation[0][0]']  \n",
            " AveragePooling2D)                                                                                \n",
            "                                                                                                  \n",
            " block3b_se_reshape (Reshap  (None, 1, 1, 240)            0         ['block3b_se_squeeze[0][0]']  \n",
            " e)                                                                                               \n",
            "                                                                                                  \n",
            " block3b_se_reduce (Conv2D)  (None, 1, 1, 10)             2410      ['block3b_se_reshape[0][0]']  \n",
            "                                                                                                  \n",
            " block3b_se_expand (Conv2D)  (None, 1, 1, 240)            2640      ['block3b_se_reduce[0][0]']   \n",
            "                                                                                                  \n",
            " block3b_se_excite (Multipl  (None, 4, 4, 240)            0         ['block3b_activation[0][0]',  \n",
            " y)                                                                  'block3b_se_expand[0][0]']   \n",
            "                                                                                                  \n",
            " block3b_project_conv (Conv  (None, 4, 4, 40)             9600      ['block3b_se_excite[0][0]']   \n",
            " 2D)                                                                                              \n",
            "                                                                                                  \n",
            " block3b_project_bn (BatchN  (None, 4, 4, 40)             160       ['block3b_project_conv[0][0]']\n",
            " ormalization)                                                                                    \n",
            "                                                                                                  \n",
            " block3b_drop (Dropout)      (None, 4, 4, 40)             0         ['block3b_project_bn[0][0]']  \n",
            "                                                                                                  \n",
            " block3b_add (Add)           (None, 4, 4, 40)             0         ['block3b_drop[0][0]',        \n",
            "                                                                     'block3a_project_bn[0][0]']  \n",
            "                                                                                                  \n",
            " block4a_expand_conv (Conv2  (None, 4, 4, 240)            9600      ['block3b_add[0][0]']         \n",
            " D)                                                                                               \n",
            "                                                                                                  \n",
            " block4a_expand_bn (BatchNo  (None, 4, 4, 240)            960       ['block4a_expand_conv[0][0]'] \n",
            " rmalization)                                                                                     \n",
            "                                                                                                  \n",
            " block4a_expand_activation   (None, 4, 4, 240)            0         ['block4a_expand_bn[0][0]']   \n",
            " (Activation)                                                                                     \n",
            "                                                                                                  \n",
            " block4a_dwconv_pad (ZeroPa  (None, 5, 5, 240)            0         ['block4a_expand_activation[0]\n",
            " dding2D)                                                           [0]']                         \n",
            "                                                                                                  \n",
            " block4a_dwconv (DepthwiseC  (None, 2, 2, 240)            2160      ['block4a_dwconv_pad[0][0]']  \n",
            " onv2D)                                                                                           \n",
            "                                                                                                  \n",
            " block4a_bn (BatchNormaliza  (None, 2, 2, 240)            960       ['block4a_dwconv[0][0]']      \n",
            " tion)                                                                                            \n",
            "                                                                                                  \n",
            " block4a_activation (Activa  (None, 2, 2, 240)            0         ['block4a_bn[0][0]']          \n",
            " tion)                                                                                            \n",
            "                                                                                                  \n",
            " block4a_se_squeeze (Global  (None, 240)                  0         ['block4a_activation[0][0]']  \n",
            " AveragePooling2D)                                                                                \n",
            "                                                                                                  \n",
            " block4a_se_reshape (Reshap  (None, 1, 1, 240)            0         ['block4a_se_squeeze[0][0]']  \n",
            " e)                                                                                               \n",
            "                                                                                                  \n",
            " block4a_se_reduce (Conv2D)  (None, 1, 1, 10)             2410      ['block4a_se_reshape[0][0]']  \n",
            "                                                                                                  \n",
            " block4a_se_expand (Conv2D)  (None, 1, 1, 240)            2640      ['block4a_se_reduce[0][0]']   \n",
            "                                                                                                  \n",
            " block4a_se_excite (Multipl  (None, 2, 2, 240)            0         ['block4a_activation[0][0]',  \n",
            " y)                                                                  'block4a_se_expand[0][0]']   \n",
            "                                                                                                  \n",
            " block4a_project_conv (Conv  (None, 2, 2, 80)             19200     ['block4a_se_excite[0][0]']   \n",
            " 2D)                                                                                              \n",
            "                                                                                                  \n",
            " block4a_project_bn (BatchN  (None, 2, 2, 80)             320       ['block4a_project_conv[0][0]']\n",
            " ormalization)                                                                                    \n",
            "                                                                                                  \n",
            " block4b_expand_conv (Conv2  (None, 2, 2, 480)            38400     ['block4a_project_bn[0][0]']  \n",
            " D)                                                                                               \n",
            "                                                                                                  \n",
            " block4b_expand_bn (BatchNo  (None, 2, 2, 480)            1920      ['block4b_expand_conv[0][0]'] \n",
            " rmalization)                                                                                     \n",
            "                                                                                                  \n",
            " block4b_expand_activation   (None, 2, 2, 480)            0         ['block4b_expand_bn[0][0]']   \n",
            " (Activation)                                                                                     \n",
            "                                                                                                  \n",
            " block4b_dwconv (DepthwiseC  (None, 2, 2, 480)            4320      ['block4b_expand_activation[0]\n",
            " onv2D)                                                             [0]']                         \n",
            "                                                                                                  \n",
            " block4b_bn (BatchNormaliza  (None, 2, 2, 480)            1920      ['block4b_dwconv[0][0]']      \n",
            " tion)                                                                                            \n",
            "                                                                                                  \n",
            " block4b_activation (Activa  (None, 2, 2, 480)            0         ['block4b_bn[0][0]']          \n",
            " tion)                                                                                            \n",
            "                                                                                                  \n",
            " block4b_se_squeeze (Global  (None, 480)                  0         ['block4b_activation[0][0]']  \n",
            " AveragePooling2D)                                                                                \n",
            "                                                                                                  \n",
            " block4b_se_reshape (Reshap  (None, 1, 1, 480)            0         ['block4b_se_squeeze[0][0]']  \n",
            " e)                                                                                               \n",
            "                                                                                                  \n",
            " block4b_se_reduce (Conv2D)  (None, 1, 1, 20)             9620      ['block4b_se_reshape[0][0]']  \n",
            "                                                                                                  \n",
            " block4b_se_expand (Conv2D)  (None, 1, 1, 480)            10080     ['block4b_se_reduce[0][0]']   \n",
            "                                                                                                  \n",
            " block4b_se_excite (Multipl  (None, 2, 2, 480)            0         ['block4b_activation[0][0]',  \n",
            " y)                                                                  'block4b_se_expand[0][0]']   \n",
            "                                                                                                  \n",
            " block4b_project_conv (Conv  (None, 2, 2, 80)             38400     ['block4b_se_excite[0][0]']   \n",
            " 2D)                                                                                              \n",
            "                                                                                                  \n",
            " block4b_project_bn (BatchN  (None, 2, 2, 80)             320       ['block4b_project_conv[0][0]']\n",
            " ormalization)                                                                                    \n",
            "                                                                                                  \n",
            " block4b_drop (Dropout)      (None, 2, 2, 80)             0         ['block4b_project_bn[0][0]']  \n",
            "                                                                                                  \n",
            " block4b_add (Add)           (None, 2, 2, 80)             0         ['block4b_drop[0][0]',        \n",
            "                                                                     'block4a_project_bn[0][0]']  \n",
            "                                                                                                  \n",
            " block4c_expand_conv (Conv2  (None, 2, 2, 480)            38400     ['block4b_add[0][0]']         \n",
            " D)                                                                                               \n",
            "                                                                                                  \n",
            " block4c_expand_bn (BatchNo  (None, 2, 2, 480)            1920      ['block4c_expand_conv[0][0]'] \n",
            " rmalization)                                                                                     \n",
            "                                                                                                  \n",
            " block4c_expand_activation   (None, 2, 2, 480)            0         ['block4c_expand_bn[0][0]']   \n",
            " (Activation)                                                                                     \n",
            "                                                                                                  \n",
            " block4c_dwconv (DepthwiseC  (None, 2, 2, 480)            4320      ['block4c_expand_activation[0]\n",
            " onv2D)                                                             [0]']                         \n",
            "                                                                                                  \n",
            " block4c_bn (BatchNormaliza  (None, 2, 2, 480)            1920      ['block4c_dwconv[0][0]']      \n",
            " tion)                                                                                            \n",
            "                                                                                                  \n",
            " block4c_activation (Activa  (None, 2, 2, 480)            0         ['block4c_bn[0][0]']          \n",
            " tion)                                                                                            \n",
            "                                                                                                  \n",
            " block4c_se_squeeze (Global  (None, 480)                  0         ['block4c_activation[0][0]']  \n",
            " AveragePooling2D)                                                                                \n",
            "                                                                                                  \n",
            " block4c_se_reshape (Reshap  (None, 1, 1, 480)            0         ['block4c_se_squeeze[0][0]']  \n",
            " e)                                                                                               \n",
            "                                                                                                  \n",
            " block4c_se_reduce (Conv2D)  (None, 1, 1, 20)             9620      ['block4c_se_reshape[0][0]']  \n",
            "                                                                                                  \n",
            " block4c_se_expand (Conv2D)  (None, 1, 1, 480)            10080     ['block4c_se_reduce[0][0]']   \n",
            "                                                                                                  \n",
            " block4c_se_excite (Multipl  (None, 2, 2, 480)            0         ['block4c_activation[0][0]',  \n",
            " y)                                                                  'block4c_se_expand[0][0]']   \n",
            "                                                                                                  \n",
            " block4c_project_conv (Conv  (None, 2, 2, 80)             38400     ['block4c_se_excite[0][0]']   \n",
            " 2D)                                                                                              \n",
            "                                                                                                  \n",
            " block4c_project_bn (BatchN  (None, 2, 2, 80)             320       ['block4c_project_conv[0][0]']\n",
            " ormalization)                                                                                    \n",
            "                                                                                                  \n",
            " block4c_drop (Dropout)      (None, 2, 2, 80)             0         ['block4c_project_bn[0][0]']  \n",
            "                                                                                                  \n",
            " block4c_add (Add)           (None, 2, 2, 80)             0         ['block4c_drop[0][0]',        \n",
            "                                                                     'block4b_add[0][0]']         \n",
            "                                                                                                  \n",
            " block5a_expand_conv (Conv2  (None, 2, 2, 480)            38400     ['block4c_add[0][0]']         \n",
            " D)                                                                                               \n",
            "                                                                                                  \n",
            " block5a_expand_bn (BatchNo  (None, 2, 2, 480)            1920      ['block5a_expand_conv[0][0]'] \n",
            " rmalization)                                                                                     \n",
            "                                                                                                  \n",
            " block5a_expand_activation   (None, 2, 2, 480)            0         ['block5a_expand_bn[0][0]']   \n",
            " (Activation)                                                                                     \n",
            "                                                                                                  \n",
            " block5a_dwconv (DepthwiseC  (None, 2, 2, 480)            12000     ['block5a_expand_activation[0]\n",
            " onv2D)                                                             [0]']                         \n",
            "                                                                                                  \n",
            " block5a_bn (BatchNormaliza  (None, 2, 2, 480)            1920      ['block5a_dwconv[0][0]']      \n",
            " tion)                                                                                            \n",
            "                                                                                                  \n",
            " block5a_activation (Activa  (None, 2, 2, 480)            0         ['block5a_bn[0][0]']          \n",
            " tion)                                                                                            \n",
            "                                                                                                  \n",
            " block5a_se_squeeze (Global  (None, 480)                  0         ['block5a_activation[0][0]']  \n",
            " AveragePooling2D)                                                                                \n",
            "                                                                                                  \n",
            " block5a_se_reshape (Reshap  (None, 1, 1, 480)            0         ['block5a_se_squeeze[0][0]']  \n",
            " e)                                                                                               \n",
            "                                                                                                  \n",
            " block5a_se_reduce (Conv2D)  (None, 1, 1, 20)             9620      ['block5a_se_reshape[0][0]']  \n",
            "                                                                                                  \n",
            " block5a_se_expand (Conv2D)  (None, 1, 1, 480)            10080     ['block5a_se_reduce[0][0]']   \n",
            "                                                                                                  \n",
            " block5a_se_excite (Multipl  (None, 2, 2, 480)            0         ['block5a_activation[0][0]',  \n",
            " y)                                                                  'block5a_se_expand[0][0]']   \n",
            "                                                                                                  \n",
            " block5a_project_conv (Conv  (None, 2, 2, 112)            53760     ['block5a_se_excite[0][0]']   \n",
            " 2D)                                                                                              \n",
            "                                                                                                  \n",
            " block5a_project_bn (BatchN  (None, 2, 2, 112)            448       ['block5a_project_conv[0][0]']\n",
            " ormalization)                                                                                    \n",
            "                                                                                                  \n",
            " block5b_expand_conv (Conv2  (None, 2, 2, 672)            75264     ['block5a_project_bn[0][0]']  \n",
            " D)                                                                                               \n",
            "                                                                                                  \n",
            " block5b_expand_bn (BatchNo  (None, 2, 2, 672)            2688      ['block5b_expand_conv[0][0]'] \n",
            " rmalization)                                                                                     \n",
            "                                                                                                  \n",
            " block5b_expand_activation   (None, 2, 2, 672)            0         ['block5b_expand_bn[0][0]']   \n",
            " (Activation)                                                                                     \n",
            "                                                                                                  \n",
            " block5b_dwconv (DepthwiseC  (None, 2, 2, 672)            16800     ['block5b_expand_activation[0]\n",
            " onv2D)                                                             [0]']                         \n",
            "                                                                                                  \n",
            " block5b_bn (BatchNormaliza  (None, 2, 2, 672)            2688      ['block5b_dwconv[0][0]']      \n",
            " tion)                                                                                            \n",
            "                                                                                                  \n",
            " block5b_activation (Activa  (None, 2, 2, 672)            0         ['block5b_bn[0][0]']          \n",
            " tion)                                                                                            \n",
            "                                                                                                  \n",
            " block5b_se_squeeze (Global  (None, 672)                  0         ['block5b_activation[0][0]']  \n",
            " AveragePooling2D)                                                                                \n",
            "                                                                                                  \n",
            " block5b_se_reshape (Reshap  (None, 1, 1, 672)            0         ['block5b_se_squeeze[0][0]']  \n",
            " e)                                                                                               \n",
            "                                                                                                  \n",
            " block5b_se_reduce (Conv2D)  (None, 1, 1, 28)             18844     ['block5b_se_reshape[0][0]']  \n",
            "                                                                                                  \n",
            " block5b_se_expand (Conv2D)  (None, 1, 1, 672)            19488     ['block5b_se_reduce[0][0]']   \n",
            "                                                                                                  \n",
            " block5b_se_excite (Multipl  (None, 2, 2, 672)            0         ['block5b_activation[0][0]',  \n",
            " y)                                                                  'block5b_se_expand[0][0]']   \n",
            "                                                                                                  \n",
            " block5b_project_conv (Conv  (None, 2, 2, 112)            75264     ['block5b_se_excite[0][0]']   \n",
            " 2D)                                                                                              \n",
            "                                                                                                  \n",
            " block5b_project_bn (BatchN  (None, 2, 2, 112)            448       ['block5b_project_conv[0][0]']\n",
            " ormalization)                                                                                    \n",
            "                                                                                                  \n",
            " block5b_drop (Dropout)      (None, 2, 2, 112)            0         ['block5b_project_bn[0][0]']  \n",
            "                                                                                                  \n",
            " block5b_add (Add)           (None, 2, 2, 112)            0         ['block5b_drop[0][0]',        \n",
            "                                                                     'block5a_project_bn[0][0]']  \n",
            "                                                                                                  \n",
            " block5c_expand_conv (Conv2  (None, 2, 2, 672)            75264     ['block5b_add[0][0]']         \n",
            " D)                                                                                               \n",
            "                                                                                                  \n",
            " block5c_expand_bn (BatchNo  (None, 2, 2, 672)            2688      ['block5c_expand_conv[0][0]'] \n",
            " rmalization)                                                                                     \n",
            "                                                                                                  \n",
            " block5c_expand_activation   (None, 2, 2, 672)            0         ['block5c_expand_bn[0][0]']   \n",
            " (Activation)                                                                                     \n",
            "                                                                                                  \n",
            " block5c_dwconv (DepthwiseC  (None, 2, 2, 672)            16800     ['block5c_expand_activation[0]\n",
            " onv2D)                                                             [0]']                         \n",
            "                                                                                                  \n",
            " block5c_bn (BatchNormaliza  (None, 2, 2, 672)            2688      ['block5c_dwconv[0][0]']      \n",
            " tion)                                                                                            \n",
            "                                                                                                  \n",
            " block5c_activation (Activa  (None, 2, 2, 672)            0         ['block5c_bn[0][0]']          \n",
            " tion)                                                                                            \n",
            "                                                                                                  \n",
            " block5c_se_squeeze (Global  (None, 672)                  0         ['block5c_activation[0][0]']  \n",
            " AveragePooling2D)                                                                                \n",
            "                                                                                                  \n",
            " block5c_se_reshape (Reshap  (None, 1, 1, 672)            0         ['block5c_se_squeeze[0][0]']  \n",
            " e)                                                                                               \n",
            "                                                                                                  \n",
            " block5c_se_reduce (Conv2D)  (None, 1, 1, 28)             18844     ['block5c_se_reshape[0][0]']  \n",
            "                                                                                                  \n",
            " block5c_se_expand (Conv2D)  (None, 1, 1, 672)            19488     ['block5c_se_reduce[0][0]']   \n",
            "                                                                                                  \n",
            " block5c_se_excite (Multipl  (None, 2, 2, 672)            0         ['block5c_activation[0][0]',  \n",
            " y)                                                                  'block5c_se_expand[0][0]']   \n",
            "                                                                                                  \n",
            " block5c_project_conv (Conv  (None, 2, 2, 112)            75264     ['block5c_se_excite[0][0]']   \n",
            " 2D)                                                                                              \n",
            "                                                                                                  \n",
            " block5c_project_bn (BatchN  (None, 2, 2, 112)            448       ['block5c_project_conv[0][0]']\n",
            " ormalization)                                                                                    \n",
            "                                                                                                  \n",
            " block5c_drop (Dropout)      (None, 2, 2, 112)            0         ['block5c_project_bn[0][0]']  \n",
            "                                                                                                  \n",
            " block5c_add (Add)           (None, 2, 2, 112)            0         ['block5c_drop[0][0]',        \n",
            "                                                                     'block5b_add[0][0]']         \n",
            "                                                                                                  \n",
            " block6a_expand_conv (Conv2  (None, 2, 2, 672)            75264     ['block5c_add[0][0]']         \n",
            " D)                                                                                               \n",
            "                                                                                                  \n",
            " block6a_expand_bn (BatchNo  (None, 2, 2, 672)            2688      ['block6a_expand_conv[0][0]'] \n",
            " rmalization)                                                                                     \n",
            "                                                                                                  \n",
            " block6a_expand_activation   (None, 2, 2, 672)            0         ['block6a_expand_bn[0][0]']   \n",
            " (Activation)                                                                                     \n",
            "                                                                                                  \n",
            " block6a_dwconv_pad (ZeroPa  (None, 5, 5, 672)            0         ['block6a_expand_activation[0]\n",
            " dding2D)                                                           [0]']                         \n",
            "                                                                                                  \n",
            " block6a_dwconv (DepthwiseC  (None, 1, 1, 672)            16800     ['block6a_dwconv_pad[0][0]']  \n",
            " onv2D)                                                                                           \n",
            "                                                                                                  \n",
            " block6a_bn (BatchNormaliza  (None, 1, 1, 672)            2688      ['block6a_dwconv[0][0]']      \n",
            " tion)                                                                                            \n",
            "                                                                                                  \n",
            " block6a_activation (Activa  (None, 1, 1, 672)            0         ['block6a_bn[0][0]']          \n",
            " tion)                                                                                            \n",
            "                                                                                                  \n",
            " block6a_se_squeeze (Global  (None, 672)                  0         ['block6a_activation[0][0]']  \n",
            " AveragePooling2D)                                                                                \n",
            "                                                                                                  \n",
            " block6a_se_reshape (Reshap  (None, 1, 1, 672)            0         ['block6a_se_squeeze[0][0]']  \n",
            " e)                                                                                               \n",
            "                                                                                                  \n",
            " block6a_se_reduce (Conv2D)  (None, 1, 1, 28)             18844     ['block6a_se_reshape[0][0]']  \n",
            "                                                                                                  \n",
            " block6a_se_expand (Conv2D)  (None, 1, 1, 672)            19488     ['block6a_se_reduce[0][0]']   \n",
            "                                                                                                  \n",
            " block6a_se_excite (Multipl  (None, 1, 1, 672)            0         ['block6a_activation[0][0]',  \n",
            " y)                                                                  'block6a_se_expand[0][0]']   \n",
            "                                                                                                  \n",
            " block6a_project_conv (Conv  (None, 1, 1, 192)            129024    ['block6a_se_excite[0][0]']   \n",
            " 2D)                                                                                              \n",
            "                                                                                                  \n",
            " block6a_project_bn (BatchN  (None, 1, 1, 192)            768       ['block6a_project_conv[0][0]']\n",
            " ormalization)                                                                                    \n",
            "                                                                                                  \n",
            " block6b_expand_conv (Conv2  (None, 1, 1, 1152)           221184    ['block6a_project_bn[0][0]']  \n",
            " D)                                                                                               \n",
            "                                                                                                  \n",
            " block6b_expand_bn (BatchNo  (None, 1, 1, 1152)           4608      ['block6b_expand_conv[0][0]'] \n",
            " rmalization)                                                                                     \n",
            "                                                                                                  \n",
            " block6b_expand_activation   (None, 1, 1, 1152)           0         ['block6b_expand_bn[0][0]']   \n",
            " (Activation)                                                                                     \n",
            "                                                                                                  \n",
            " block6b_dwconv (DepthwiseC  (None, 1, 1, 1152)           28800     ['block6b_expand_activation[0]\n",
            " onv2D)                                                             [0]']                         \n",
            "                                                                                                  \n",
            " block6b_bn (BatchNormaliza  (None, 1, 1, 1152)           4608      ['block6b_dwconv[0][0]']      \n",
            " tion)                                                                                            \n",
            "                                                                                                  \n",
            " block6b_activation (Activa  (None, 1, 1, 1152)           0         ['block6b_bn[0][0]']          \n",
            " tion)                                                                                            \n",
            "                                                                                                  \n",
            " block6b_se_squeeze (Global  (None, 1152)                 0         ['block6b_activation[0][0]']  \n",
            " AveragePooling2D)                                                                                \n",
            "                                                                                                  \n",
            " block6b_se_reshape (Reshap  (None, 1, 1, 1152)           0         ['block6b_se_squeeze[0][0]']  \n",
            " e)                                                                                               \n",
            "                                                                                                  \n",
            " block6b_se_reduce (Conv2D)  (None, 1, 1, 48)             55344     ['block6b_se_reshape[0][0]']  \n",
            "                                                                                                  \n",
            " block6b_se_expand (Conv2D)  (None, 1, 1, 1152)           56448     ['block6b_se_reduce[0][0]']   \n",
            "                                                                                                  \n",
            " block6b_se_excite (Multipl  (None, 1, 1, 1152)           0         ['block6b_activation[0][0]',  \n",
            " y)                                                                  'block6b_se_expand[0][0]']   \n",
            "                                                                                                  \n",
            " block6b_project_conv (Conv  (None, 1, 1, 192)            221184    ['block6b_se_excite[0][0]']   \n",
            " 2D)                                                                                              \n",
            "                                                                                                  \n",
            " block6b_project_bn (BatchN  (None, 1, 1, 192)            768       ['block6b_project_conv[0][0]']\n",
            " ormalization)                                                                                    \n",
            "                                                                                                  \n",
            " block6b_drop (Dropout)      (None, 1, 1, 192)            0         ['block6b_project_bn[0][0]']  \n",
            "                                                                                                  \n",
            " block6b_add (Add)           (None, 1, 1, 192)            0         ['block6b_drop[0][0]',        \n",
            "                                                                     'block6a_project_bn[0][0]']  \n",
            "                                                                                                  \n",
            " block6c_expand_conv (Conv2  (None, 1, 1, 1152)           221184    ['block6b_add[0][0]']         \n",
            " D)                                                                                               \n",
            "                                                                                                  \n",
            " block6c_expand_bn (BatchNo  (None, 1, 1, 1152)           4608      ['block6c_expand_conv[0][0]'] \n",
            " rmalization)                                                                                     \n",
            "                                                                                                  \n",
            " block6c_expand_activation   (None, 1, 1, 1152)           0         ['block6c_expand_bn[0][0]']   \n",
            " (Activation)                                                                                     \n",
            "                                                                                                  \n",
            " block6c_dwconv (DepthwiseC  (None, 1, 1, 1152)           28800     ['block6c_expand_activation[0]\n",
            " onv2D)                                                             [0]']                         \n",
            "                                                                                                  \n",
            " block6c_bn (BatchNormaliza  (None, 1, 1, 1152)           4608      ['block6c_dwconv[0][0]']      \n",
            " tion)                                                                                            \n",
            "                                                                                                  \n",
            " block6c_activation (Activa  (None, 1, 1, 1152)           0         ['block6c_bn[0][0]']          \n",
            " tion)                                                                                            \n",
            "                                                                                                  \n",
            " block6c_se_squeeze (Global  (None, 1152)                 0         ['block6c_activation[0][0]']  \n",
            " AveragePooling2D)                                                                                \n",
            "                                                                                                  \n",
            " block6c_se_reshape (Reshap  (None, 1, 1, 1152)           0         ['block6c_se_squeeze[0][0]']  \n",
            " e)                                                                                               \n",
            "                                                                                                  \n",
            " block6c_se_reduce (Conv2D)  (None, 1, 1, 48)             55344     ['block6c_se_reshape[0][0]']  \n",
            "                                                                                                  \n",
            " block6c_se_expand (Conv2D)  (None, 1, 1, 1152)           56448     ['block6c_se_reduce[0][0]']   \n",
            "                                                                                                  \n",
            " block6c_se_excite (Multipl  (None, 1, 1, 1152)           0         ['block6c_activation[0][0]',  \n",
            " y)                                                                  'block6c_se_expand[0][0]']   \n",
            "                                                                                                  \n",
            " block6c_project_conv (Conv  (None, 1, 1, 192)            221184    ['block6c_se_excite[0][0]']   \n",
            " 2D)                                                                                              \n",
            "                                                                                                  \n",
            " block6c_project_bn (BatchN  (None, 1, 1, 192)            768       ['block6c_project_conv[0][0]']\n",
            " ormalization)                                                                                    \n",
            "                                                                                                  \n",
            " block6c_drop (Dropout)      (None, 1, 1, 192)            0         ['block6c_project_bn[0][0]']  \n",
            "                                                                                                  \n",
            " block6c_add (Add)           (None, 1, 1, 192)            0         ['block6c_drop[0][0]',        \n",
            "                                                                     'block6b_add[0][0]']         \n",
            "                                                                                                  \n",
            " block6d_expand_conv (Conv2  (None, 1, 1, 1152)           221184    ['block6c_add[0][0]']         \n",
            " D)                                                                                               \n",
            "                                                                                                  \n",
            " block6d_expand_bn (BatchNo  (None, 1, 1, 1152)           4608      ['block6d_expand_conv[0][0]'] \n",
            " rmalization)                                                                                     \n",
            "                                                                                                  \n",
            " block6d_expand_activation   (None, 1, 1, 1152)           0         ['block6d_expand_bn[0][0]']   \n",
            " (Activation)                                                                                     \n",
            "                                                                                                  \n",
            " block6d_dwconv (DepthwiseC  (None, 1, 1, 1152)           28800     ['block6d_expand_activation[0]\n",
            " onv2D)                                                             [0]']                         \n",
            "                                                                                                  \n",
            " block6d_bn (BatchNormaliza  (None, 1, 1, 1152)           4608      ['block6d_dwconv[0][0]']      \n",
            " tion)                                                                                            \n",
            "                                                                                                  \n",
            " block6d_activation (Activa  (None, 1, 1, 1152)           0         ['block6d_bn[0][0]']          \n",
            " tion)                                                                                            \n",
            "                                                                                                  \n",
            " block6d_se_squeeze (Global  (None, 1152)                 0         ['block6d_activation[0][0]']  \n",
            " AveragePooling2D)                                                                                \n",
            "                                                                                                  \n",
            " block6d_se_reshape (Reshap  (None, 1, 1, 1152)           0         ['block6d_se_squeeze[0][0]']  \n",
            " e)                                                                                               \n",
            "                                                                                                  \n",
            " block6d_se_reduce (Conv2D)  (None, 1, 1, 48)             55344     ['block6d_se_reshape[0][0]']  \n",
            "                                                                                                  \n",
            " block6d_se_expand (Conv2D)  (None, 1, 1, 1152)           56448     ['block6d_se_reduce[0][0]']   \n",
            "                                                                                                  \n",
            " block6d_se_excite (Multipl  (None, 1, 1, 1152)           0         ['block6d_activation[0][0]',  \n",
            " y)                                                                  'block6d_se_expand[0][0]']   \n",
            "                                                                                                  \n",
            " block6d_project_conv (Conv  (None, 1, 1, 192)            221184    ['block6d_se_excite[0][0]']   \n",
            " 2D)                                                                                              \n",
            "                                                                                                  \n",
            " block6d_project_bn (BatchN  (None, 1, 1, 192)            768       ['block6d_project_conv[0][0]']\n",
            " ormalization)                                                                                    \n",
            "                                                                                                  \n",
            " block6d_drop (Dropout)      (None, 1, 1, 192)            0         ['block6d_project_bn[0][0]']  \n",
            "                                                                                                  \n",
            " block6d_add (Add)           (None, 1, 1, 192)            0         ['block6d_drop[0][0]',        \n",
            "                                                                     'block6c_add[0][0]']         \n",
            "                                                                                                  \n",
            " block7a_expand_conv (Conv2  (None, 1, 1, 1152)           221184    ['block6d_add[0][0]']         \n",
            " D)                                                                                               \n",
            "                                                                                                  \n",
            " block7a_expand_bn (BatchNo  (None, 1, 1, 1152)           4608      ['block7a_expand_conv[0][0]'] \n",
            " rmalization)                                                                                     \n",
            "                                                                                                  \n",
            " block7a_expand_activation   (None, 1, 1, 1152)           0         ['block7a_expand_bn[0][0]']   \n",
            " (Activation)                                                                                     \n",
            "                                                                                                  \n",
            " block7a_dwconv (DepthwiseC  (None, 1, 1, 1152)           10368     ['block7a_expand_activation[0]\n",
            " onv2D)                                                             [0]']                         \n",
            "                                                                                                  \n",
            " block7a_bn (BatchNormaliza  (None, 1, 1, 1152)           4608      ['block7a_dwconv[0][0]']      \n",
            " tion)                                                                                            \n",
            "                                                                                                  \n",
            " block7a_activation (Activa  (None, 1, 1, 1152)           0         ['block7a_bn[0][0]']          \n",
            " tion)                                                                                            \n",
            "                                                                                                  \n",
            " block7a_se_squeeze (Global  (None, 1152)                 0         ['block7a_activation[0][0]']  \n",
            " AveragePooling2D)                                                                                \n",
            "                                                                                                  \n",
            " block7a_se_reshape (Reshap  (None, 1, 1, 1152)           0         ['block7a_se_squeeze[0][0]']  \n",
            " e)                                                                                               \n",
            "                                                                                                  \n",
            " block7a_se_reduce (Conv2D)  (None, 1, 1, 48)             55344     ['block7a_se_reshape[0][0]']  \n",
            "                                                                                                  \n",
            " block7a_se_expand (Conv2D)  (None, 1, 1, 1152)           56448     ['block7a_se_reduce[0][0]']   \n",
            "                                                                                                  \n",
            " block7a_se_excite (Multipl  (None, 1, 1, 1152)           0         ['block7a_activation[0][0]',  \n",
            " y)                                                                  'block7a_se_expand[0][0]']   \n",
            "                                                                                                  \n",
            " block7a_project_conv (Conv  (None, 1, 1, 320)            368640    ['block7a_se_excite[0][0]']   \n",
            " 2D)                                                                                              \n",
            "                                                                                                  \n",
            " block7a_project_bn (BatchN  (None, 1, 1, 320)            1280      ['block7a_project_conv[0][0]']\n",
            " ormalization)                                                                                    \n",
            "                                                                                                  \n",
            " top_conv (Conv2D)           (None, 1, 1, 1280)           409600    ['block7a_project_bn[0][0]']  \n",
            "                                                                                                  \n",
            " top_bn (BatchNormalization  (None, 1, 1, 1280)           5120      ['top_conv[0][0]']            \n",
            " )                                                                                                \n",
            "                                                                                                  \n",
            " top_activation (Activation  (None, 1, 1, 1280)           0         ['top_bn[0][0]']              \n",
            " )                                                                                                \n",
            "                                                                                                  \n",
            "==================================================================================================\n",
            "Total params: 4049571 (15.45 MB)\n",
            "Trainable params: 893232 (3.41 MB)\n",
            "Non-trainable params: 3156339 (12.04 MB)\n",
            "__________________________________________________________________________________________________\n"
          ]
        }
      ],
      "source": [
        "base_model.summary()"
      ]
    },
    {
      "cell_type": "markdown",
      "metadata": {},
      "source": [
        "#### Adding custom layers"
      ]
    },
    {
      "cell_type": "code",
      "execution_count": 55,
      "metadata": {
        "id": "C9Y58mljP_wg"
      },
      "outputs": [],
      "source": [
        "inputs = layers.Input(shape=(32, 32, 3))\n",
        "x = data_augmentation(inputs)\n",
        "\n",
        "x = preprocess_input(x)\n",
        "x = base_model(x)\n",
        "#x = AveragePooling2D(8,8)(x)\n",
        "x = layers.Flatten(name=\"flatten\")(x)\n",
        "x = layers.Dropout(0.5)(x)\n",
        "x = layers.Dense(128, activation=\"relu\")(x)\n",
        "x = layers.Dropout(0.5)(x)\n",
        "outputs = layers.Dense(2, activation=\"softmax\")(x)"
      ]
    },
    {
      "cell_type": "code",
      "execution_count": 56,
      "metadata": {
        "id": "Bn8tIECtQHv-"
      },
      "outputs": [],
      "source": [
        "model2 = Model(inputs, outputs)"
      ]
    },
    {
      "cell_type": "markdown",
      "metadata": {},
      "source": [
        "#### Compiling the model"
      ]
    },
    {
      "cell_type": "code",
      "execution_count": 115,
      "metadata": {
        "id": "i8TiE6wFP_us"
      },
      "outputs": [],
      "source": [
        "opt = tf.keras.optimizers.Adam(learning_rate=1e-5)\n",
        "model2.compile(optimizer=opt, loss=tf.keras.losses.SparseCategoricalCrossentropy() , metrics=['accuracy'])"
      ]
    },
    {
      "cell_type": "markdown",
      "metadata": {},
      "source": [
        "#### Summarizing the model"
      ]
    },
    {
      "cell_type": "code",
      "execution_count": 58,
      "metadata": {
        "colab": {
          "base_uri": "https://localhost:8080/"
        },
        "id": "--ip1PQBP_sF",
        "outputId": "c4f2897b-f8ca-42c5-ffa7-65bca4b3b702"
      },
      "outputs": [
        {
          "name": "stdout",
          "output_type": "stream",
          "text": [
            "Model: \"model\"\n",
            "_________________________________________________________________\n",
            " Layer (type)                Output Shape              Param #   \n",
            "=================================================================\n",
            " input_10 (InputLayer)       [(None, 32, 32, 3)]       0         \n",
            "                                                                 \n",
            " sequential (Sequential)     (None, 32, 32, 3)         0         \n",
            "                                                                 \n",
            " efficientnetb0 (Functional  (None, 1, 1, 1280)        4049571   \n",
            " )                                                               \n",
            "                                                                 \n",
            " flatten (Flatten)           (None, 1280)              0         \n",
            "                                                                 \n",
            " dropout_1 (Dropout)         (None, 1280)              0         \n",
            "                                                                 \n",
            " dense_2 (Dense)             (None, 128)               163968    \n",
            "                                                                 \n",
            " dropout_2 (Dropout)         (None, 128)               0         \n",
            "                                                                 \n",
            " dense_3 (Dense)             (None, 2)                 258       \n",
            "                                                                 \n",
            "=================================================================\n",
            "Total params: 4213797 (16.07 MB)\n",
            "Trainable params: 1057458 (4.03 MB)\n",
            "Non-trainable params: 3156339 (12.04 MB)\n",
            "_________________________________________________________________\n"
          ]
        }
      ],
      "source": [
        "model2.summary()"
      ]
    },
    {
      "cell_type": "markdown",
      "metadata": {},
      "source": [
        "### Creating a checkpoint callback for saving weights"
      ]
    },
    {
      "cell_type": "code",
      "execution_count": 59,
      "metadata": {},
      "outputs": [],
      "source": [
        "checkpoint_path2 =\"eff/eff-{epoch:04d}.ckpt\"\n",
        "checkpoint_dir2 = os.path.dirname(checkpoint_path2)\n",
        "cp_callback2 = tf.keras.callbacks.ModelCheckpoint(filepath=checkpoint_path2,save_weights_only=True,verbose=1)"
      ]
    },
    {
      "cell_type": "markdown",
      "metadata": {},
      "source": [
        "### Loading weights from the latest checkpoint"
      ]
    },
    {
      "cell_type": "code",
      "execution_count": 73,
      "metadata": {},
      "outputs": [],
      "source": [
        "latest2 = tf.train.latest_checkpoint(checkpoint_dir2)\n",
        "if(latest2==None):\n",
        "    print(\"No weights to load\")\n",
        "else:\n",
        "    model2.load_weights(latest2)"
      ]
    },
    {
      "cell_type": "code",
      "execution_count": 61,
      "metadata": {
        "colab": {
          "base_uri": "https://localhost:8080/"
        },
        "id": "zZeoxp8HP_kz",
        "outputId": "9b764eb2-0f89-4bd7-a2ca-83b94822b0b9"
      },
      "outputs": [
        {
          "name": "stdout",
          "output_type": "stream",
          "text": [
            "Epoch 1/30\n"
          ]
        },
        {
          "name": "stdout",
          "output_type": "stream",
          "text": [
            "796/797 [============================>.] - ETA: 0s - loss: 1.0409 - accuracy: 0.5634\n",
            "Epoch 1: saving model to eff\\eff-0001.ckpt\n",
            "797/797 [==============================] - 40s 44ms/step - loss: 1.0410 - accuracy: 0.5633 - val_loss: 0.5787 - val_accuracy: 0.7103\n",
            "Epoch 2/30\n",
            "797/797 [==============================] - ETA: 0s - loss: 0.8663 - accuracy: 0.6246\n",
            "Epoch 2: saving model to eff\\eff-0002.ckpt\n",
            "797/797 [==============================] - 34s 42ms/step - loss: 0.8663 - accuracy: 0.6246 - val_loss: 0.5177 - val_accuracy: 0.7523\n",
            "Epoch 3/30\n",
            "796/797 [============================>.] - ETA: 0s - loss: 0.7864 - accuracy: 0.6482\n",
            "Epoch 3: saving model to eff\\eff-0003.ckpt\n",
            "797/797 [==============================] - 34s 42ms/step - loss: 0.7865 - accuracy: 0.6482 - val_loss: 0.4866 - val_accuracy: 0.7686\n",
            "Epoch 4/30\n",
            "797/797 [==============================] - ETA: 0s - loss: 0.7234 - accuracy: 0.6695\n",
            "Epoch 4: saving model to eff\\eff-0004.ckpt\n",
            "797/797 [==============================] - 34s 42ms/step - loss: 0.7234 - accuracy: 0.6695 - val_loss: 0.4680 - val_accuracy: 0.7810\n",
            "Epoch 5/30\n",
            "796/797 [============================>.] - ETA: 0s - loss: 0.6863 - accuracy: 0.6781\n",
            "Epoch 5: saving model to eff\\eff-0005.ckpt\n",
            "797/797 [==============================] - 33s 42ms/step - loss: 0.6863 - accuracy: 0.6781 - val_loss: 0.4577 - val_accuracy: 0.7864\n",
            "Epoch 6/30\n",
            "797/797 [==============================] - ETA: 0s - loss: 0.6586 - accuracy: 0.6884\n",
            "Epoch 6: saving model to eff\\eff-0006.ckpt\n",
            "797/797 [==============================] - 33s 42ms/step - loss: 0.6586 - accuracy: 0.6884 - val_loss: 0.4476 - val_accuracy: 0.7928\n",
            "Epoch 7/30\n",
            "796/797 [============================>.] - ETA: 0s - loss: 0.6337 - accuracy: 0.6951\n",
            "Epoch 7: saving model to eff\\eff-0007.ckpt\n",
            "797/797 [==============================] - 33s 42ms/step - loss: 0.6337 - accuracy: 0.6951 - val_loss: 0.4424 - val_accuracy: 0.7983\n",
            "Epoch 8/30\n",
            "797/797 [==============================] - ETA: 0s - loss: 0.6108 - accuracy: 0.7051\n",
            "Epoch 8: saving model to eff\\eff-0008.ckpt\n",
            "797/797 [==============================] - 33s 42ms/step - loss: 0.6108 - accuracy: 0.7051 - val_loss: 0.4376 - val_accuracy: 0.8027\n",
            "Epoch 9/30\n",
            "797/797 [==============================] - ETA: 0s - loss: 0.5944 - accuracy: 0.7126\n",
            "Epoch 9: saving model to eff\\eff-0009.ckpt\n",
            "797/797 [==============================] - 34s 42ms/step - loss: 0.5944 - accuracy: 0.7126 - val_loss: 0.4344 - val_accuracy: 0.8057\n",
            "Epoch 10/30\n",
            "797/797 [==============================] - ETA: 0s - loss: 0.5801 - accuracy: 0.7199\n",
            "Epoch 10: saving model to eff\\eff-0010.ckpt\n",
            "797/797 [==============================] - 34s 42ms/step - loss: 0.5801 - accuracy: 0.7199 - val_loss: 0.4243 - val_accuracy: 0.8092\n",
            "Epoch 11/30\n",
            "797/797 [==============================] - ETA: 0s - loss: 0.5634 - accuracy: 0.7261\n",
            "Epoch 11: saving model to eff\\eff-0011.ckpt\n",
            "797/797 [==============================] - 35s 44ms/step - loss: 0.5634 - accuracy: 0.7261 - val_loss: 0.4234 - val_accuracy: 0.8111\n",
            "Epoch 12/30\n",
            "797/797 [==============================] - ETA: 0s - loss: 0.5563 - accuracy: 0.7314\n",
            "Epoch 12: saving model to eff\\eff-0012.ckpt\n",
            "797/797 [==============================] - 35s 44ms/step - loss: 0.5563 - accuracy: 0.7314 - val_loss: 0.4312 - val_accuracy: 0.8045\n",
            "Epoch 13/30\n",
            "797/797 [==============================] - ETA: 0s - loss: 0.5445 - accuracy: 0.7350\n",
            "Epoch 13: saving model to eff\\eff-0013.ckpt\n",
            "797/797 [==============================] - 34s 43ms/step - loss: 0.5445 - accuracy: 0.7350 - val_loss: 0.4128 - val_accuracy: 0.8193\n",
            "Epoch 14/30\n",
            "797/797 [==============================] - ETA: 0s - loss: 0.5361 - accuracy: 0.7409\n",
            "Epoch 14: saving model to eff\\eff-0014.ckpt\n",
            "797/797 [==============================] - 34s 42ms/step - loss: 0.5361 - accuracy: 0.7409 - val_loss: 0.4194 - val_accuracy: 0.8112\n",
            "Epoch 15/30\n",
            "797/797 [==============================] - ETA: 0s - loss: 0.5289 - accuracy: 0.7427\n",
            "Epoch 15: saving model to eff\\eff-0015.ckpt\n",
            "797/797 [==============================] - 34s 43ms/step - loss: 0.5289 - accuracy: 0.7427 - val_loss: 0.4172 - val_accuracy: 0.8133\n",
            "Epoch 16/30\n",
            "797/797 [==============================] - ETA: 0s - loss: 0.5224 - accuracy: 0.7476\n",
            "Epoch 16: saving model to eff\\eff-0016.ckpt\n",
            "797/797 [==============================] - 34s 42ms/step - loss: 0.5224 - accuracy: 0.7476 - val_loss: 0.4117 - val_accuracy: 0.8163\n",
            "Epoch 17/30\n",
            "797/797 [==============================] - ETA: 0s - loss: 0.5168 - accuracy: 0.7518\n",
            "Epoch 17: saving model to eff\\eff-0017.ckpt\n",
            "797/797 [==============================] - 34s 42ms/step - loss: 0.5168 - accuracy: 0.7518 - val_loss: 0.4111 - val_accuracy: 0.8157\n",
            "Epoch 18/30\n",
            "797/797 [==============================] - ETA: 0s - loss: 0.5112 - accuracy: 0.7559\n",
            "Epoch 18: saving model to eff\\eff-0018.ckpt\n",
            "797/797 [==============================] - 34s 42ms/step - loss: 0.5112 - accuracy: 0.7559 - val_loss: 0.4114 - val_accuracy: 0.8153\n",
            "Epoch 19/30\n",
            "797/797 [==============================] - ETA: 0s - loss: 0.5031 - accuracy: 0.7591\n",
            "Epoch 19: saving model to eff\\eff-0019.ckpt\n",
            "797/797 [==============================] - 34s 43ms/step - loss: 0.5031 - accuracy: 0.7591 - val_loss: 0.4054 - val_accuracy: 0.8207\n",
            "Epoch 20/30\n",
            "797/797 [==============================] - ETA: 0s - loss: 0.4994 - accuracy: 0.7612\n",
            "Epoch 20: saving model to eff\\eff-0020.ckpt\n",
            "797/797 [==============================] - 34s 42ms/step - loss: 0.4994 - accuracy: 0.7612 - val_loss: 0.4043 - val_accuracy: 0.8202\n",
            "Epoch 21/30\n",
            "797/797 [==============================] - ETA: 0s - loss: 0.4939 - accuracy: 0.7629\n",
            "Epoch 21: saving model to eff\\eff-0021.ckpt\n",
            "797/797 [==============================] - 34s 43ms/step - loss: 0.4939 - accuracy: 0.7629 - val_loss: 0.4087 - val_accuracy: 0.8161\n",
            "Epoch 22/30\n",
            "797/797 [==============================] - ETA: 0s - loss: 0.4893 - accuracy: 0.7664\n",
            "Epoch 22: saving model to eff\\eff-0022.ckpt\n",
            "797/797 [==============================] - 34s 42ms/step - loss: 0.4893 - accuracy: 0.7664 - val_loss: 0.4059 - val_accuracy: 0.8193\n",
            "Epoch 23/30\n",
            "797/797 [==============================] - ETA: 0s - loss: 0.4844 - accuracy: 0.7698\n",
            "Epoch 23: saving model to eff\\eff-0023.ckpt\n",
            "797/797 [==============================] - 34s 42ms/step - loss: 0.4844 - accuracy: 0.7698 - val_loss: 0.4076 - val_accuracy: 0.8160\n",
            "Epoch 24/30\n",
            "797/797 [==============================] - ETA: 0s - loss: 0.4819 - accuracy: 0.7718\n",
            "Epoch 24: saving model to eff\\eff-0024.ckpt\n",
            "797/797 [==============================] - 34s 42ms/step - loss: 0.4819 - accuracy: 0.7718 - val_loss: 0.3999 - val_accuracy: 0.8218\n",
            "Epoch 25/30\n",
            "796/797 [============================>.] - ETA: 0s - loss: 0.4805 - accuracy: 0.7733\n",
            "Epoch 25: saving model to eff\\eff-0025.ckpt\n",
            "797/797 [==============================] - 34s 42ms/step - loss: 0.4805 - accuracy: 0.7733 - val_loss: 0.4037 - val_accuracy: 0.8192\n",
            "Epoch 26/30\n",
            "797/797 [==============================] - ETA: 0s - loss: 0.4751 - accuracy: 0.7759\n",
            "Epoch 26: saving model to eff\\eff-0026.ckpt\n",
            "797/797 [==============================] - 34s 42ms/step - loss: 0.4751 - accuracy: 0.7759 - val_loss: 0.3877 - val_accuracy: 0.8303\n",
            "Epoch 27/30\n",
            "797/797 [==============================] - ETA: 0s - loss: 0.4733 - accuracy: 0.7770\n",
            "Epoch 27: saving model to eff\\eff-0027.ckpt\n",
            "797/797 [==============================] - 34s 42ms/step - loss: 0.4733 - accuracy: 0.7770 - val_loss: 0.4025 - val_accuracy: 0.8201\n",
            "Epoch 28/30\n",
            "797/797 [==============================] - ETA: 0s - loss: 0.4695 - accuracy: 0.7795\n",
            "Epoch 28: saving model to eff\\eff-0028.ckpt\n",
            "797/797 [==============================] - 34s 42ms/step - loss: 0.4695 - accuracy: 0.7795 - val_loss: 0.3964 - val_accuracy: 0.8239\n",
            "Epoch 29/30\n",
            "797/797 [==============================] - ETA: 0s - loss: 0.4687 - accuracy: 0.7794\n",
            "Epoch 29: saving model to eff\\eff-0029.ckpt\n",
            "797/797 [==============================] - 34s 42ms/step - loss: 0.4687 - accuracy: 0.7794 - val_loss: 0.3900 - val_accuracy: 0.8290\n",
            "Epoch 30/30\n",
            "797/797 [==============================] - ETA: 0s - loss: 0.4651 - accuracy: 0.7793\n",
            "Epoch 30: saving model to eff\\eff-0030.ckpt\n",
            "797/797 [==============================] - 34s 42ms/step - loss: 0.4651 - accuracy: 0.7793 - val_loss: 0.3909 - val_accuracy: 0.8280\n"
          ]
        }
      ],
      "source": [
        "history2 = model2.fit(train_dataset,\n",
        "                    epochs=30,\n",
        "                    validation_data=validation_dataset,\n",
        "                    callbacks=[cp_callback2])"
      ]
    },
    {
      "cell_type": "markdown",
      "metadata": {
        "id": "E-nZ0pHsQ_zs"
      },
      "source": [
        "## **Training process analysis**"
      ]
    },
    {
      "cell_type": "code",
      "execution_count": 62,
      "metadata": {
        "colab": {
          "base_uri": "https://localhost:8080/",
          "height": 478
        },
        "id": "sdZAhjbB7FZK",
        "outputId": "8d250bfa-ab03-41fd-cdef-01a5fa8a6bd7"
      },
      "outputs": [
        {
          "data": {
            "image/png": "[encoded data removed]",
            "text/plain": [
              "<Figure size 640x480 with 1 Axes>"
            ]
          },
          "metadata": {},
          "output_type": "display_data"
        }
      ],
      "source": [
        "from matplotlib import pyplot as plt\n",
        "fig = plt.figure()\n",
        "plt.plot(history1.history['loss'], color='teal', label='loss')\n",
        "plt.plot(history1.history['val_loss'], color='orange', label='val_loss')\n",
        "plt.plot(history2.history['loss'], color='yellow', label='loss_EficentNet')\n",
        "plt.plot(history2.history['val_loss'], color='green', label='val_loss_EficentNet')\n",
        "fig.suptitle('Loss', fontsize=20)\n",
        "plt.legend(loc=\"upper right\")\n",
        "plt.show()"
      ]
    },
    {
      "cell_type": "code",
      "execution_count": 63,
      "metadata": {
        "colab": {
          "base_uri": "https://localhost:8080/",
          "height": 478
        },
        "id": "txoz1fnr7NWx",
        "outputId": "b9ca3f21-8158-423d-d17d-5dbbe18503b9"
      },
      "outputs": [
        {
          "data": {
            "image/png": "[encoded data removed]",
            "text/plain": [
              "<Figure size 640x480 with 1 Axes>"
            ]
          },
          "metadata": {},
          "output_type": "display_data"
        }
      ],
      "source": [
        "fig = plt.figure()\n",
        "plt.plot(history1.history['accuracy'], color='teal', label='accuracy')\n",
        "plt.plot(history1.history['val_accuracy'], color='orange', label='val_accuracy')\n",
        "plt.plot(history2.history['accuracy'], color='yellow', label='accuracy_EficentNet')\n",
        "plt.plot(history2.history['val_accuracy'], color='green', label='val_accuracy_EficentNet')\n",
        "fig.suptitle('Accuracy', fontsize=20)\n",
        "plt.legend(loc=\"lower right\")\n",
        "plt.show()"
      ]
    },
    {
      "cell_type": "markdown",
      "metadata": {
        "id": "En0QuYCBn9sK"
      },
      "source": [
        "## **Testing**"
      ]
    },
    {
      "cell_type": "code",
      "execution_count": 109,
      "metadata": {
        "colab": {
          "base_uri": "https://localhost:8080/"
        },
        "id": "8Ruw8mEj7Yj_",
        "outputId": "d9cd22a4-0d66-4048-f18f-08b05580e24c"
      },
      "outputs": [
        {
          "name": "stdout",
          "output_type": "stream",
          "text": [
            "4/4 [==============================] - 0s 2ms/step\n",
            "4/4 [==============================] - 0s 22ms/step\n",
            "4/4 [==============================] - 0s 3ms/step\n",
            "4/4 [==============================] - 0s 23ms/step\n",
            "4/4 [==============================] - 0s 3ms/step\n",
            "4/4 [==============================] - 0s 19ms/step\n",
            "4/4 [==============================] - 0s 2ms/step\n",
            "4/4 [==============================] - 0s 20ms/step\n",
            "4/4 [==============================] - 0s 2ms/step\n",
            "4/4 [==============================] - 0s 25ms/step\n",
            "4/4 [==============================] - 0s 3ms/step\n",
            "4/4 [==============================] - 0s 20ms/step\n",
            "4/4 [==============================] - 0s 2ms/step\n",
            "4/4 [==============================] - 0s 19ms/step\n",
            "4/4 [==============================] - 0s 4ms/step\n",
            "4/4 [==============================] - 0s 22ms/step\n",
            "4/4 [==============================] - 0s 2ms/step\n",
            "4/4 [==============================] - 0s 22ms/step\n",
            "4/4 [==============================] - 0s 2ms/step\n",
            "4/4 [==============================] - 0s 20ms/step\n",
            "4/4 [==============================] - 0s 2ms/step\n",
            "4/4 [==============================] - 0s 19ms/step\n",
            "4/4 [==============================] - 0s 2ms/step\n",
            "4/4 [==============================] - 0s 19ms/step\n",
            "4/4 [==============================] - 0s 2ms/step\n",
            "4/4 [==============================] - 0s 18ms/step\n",
            "4/4 [==============================] - 0s 2ms/step\n",
            "4/4 [==============================] - 0s 21ms/step\n",
            "4/4 [==============================] - 0s 2ms/step\n",
            "4/4 [==============================] - 0s 19ms/step\n",
            "4/4 [==============================] - 0s 2ms/step\n",
            "4/4 [==============================] - 0s 22ms/step\n",
            "4/4 [==============================] - 0s 2ms/step\n",
            "4/4 [==============================] - 0s 18ms/step\n",
            "4/4 [==============================] - 0s 2ms/step\n",
            "4/4 [==============================] - 0s 20ms/step\n",
            "4/4 [==============================] - 0s 2ms/step\n",
            "4/4 [==============================] - 0s 18ms/step\n",
            "4/4 [==============================] - 0s 2ms/step\n",
            "4/4 [==============================] - 0s 18ms/step\n",
            "4/4 [==============================] - 0s 2ms/step\n",
            "4/4 [==============================] - 0s 22ms/step\n",
            "4/4 [==============================] - 0s 2ms/step\n",
            "4/4 [==============================] - 0s 22ms/step\n",
            "4/4 [==============================] - 0s 2ms/step\n",
            "4/4 [==============================] - 0s 21ms/step\n",
            "4/4 [==============================] - 0s 2ms/step\n",
            "4/4 [==============================] - 0s 22ms/step\n",
            "4/4 [==============================] - 0s 2ms/step\n",
            "4/4 [==============================] - 0s 17ms/step\n",
            "4/4 [==============================] - 0s 3ms/step\n",
            "4/4 [==============================] - 0s 20ms/step\n",
            "4/4 [==============================] - 0s 2ms/step\n",
            "4/4 [==============================] - 0s 20ms/step\n",
            "4/4 [==============================] - 0s 3ms/step\n",
            "4/4 [==============================] - 0s 23ms/step\n",
            "4/4 [==============================] - 0s 3ms/step\n",
            "4/4 [==============================] - 0s 24ms/step\n",
            "4/4 [==============================] - 0s 3ms/step\n",
            "4/4 [==============================] - 0s 21ms/step\n",
            "4/4 [==============================] - 0s 2ms/step\n",
            "4/4 [==============================] - 0s 22ms/step\n",
            "4/4 [==============================] - 0s 2ms/step\n",
            "4/4 [==============================] - 0s 20ms/step\n",
            "4/4 [==============================] - 0s 2ms/step\n",
            "4/4 [==============================] - 0s 20ms/step\n",
            "4/4 [==============================] - 0s 2ms/step\n",
            "4/4 [==============================] - 0s 23ms/step\n",
            "4/4 [==============================] - 0s 2ms/step\n",
            "4/4 [==============================] - 0s 26ms/step\n",
            "4/4 [==============================] - 0s 3ms/step\n",
            "4/4 [==============================] - 0s 22ms/step\n",
            "4/4 [==============================] - 0s 2ms/step\n",
            "4/4 [==============================] - 0s 20ms/step\n",
            "4/4 [==============================] - 0s 5ms/step\n",
            "4/4 [==============================] - 0s 22ms/step\n",
            "4/4 [==============================] - 0s 3ms/step\n",
            "4/4 [==============================] - 0s 24ms/step\n",
            "4/4 [==============================] - 0s 4ms/step\n",
            "4/4 [==============================] - 0s 24ms/step\n",
            "4/4 [==============================] - 0s 3ms/step\n",
            "4/4 [==============================] - 0s 26ms/step\n",
            "4/4 [==============================] - 0s 3ms/step\n",
            "4/4 [==============================] - 0s 22ms/step\n",
            "4/4 [==============================] - 0s 2ms/step\n",
            "4/4 [==============================] - 0s 21ms/step\n",
            "4/4 [==============================] - 0s 3ms/step\n",
            "4/4 [==============================] - 0s 23ms/step\n",
            "4/4 [==============================] - 0s 2ms/step\n",
            "4/4 [==============================] - 0s 23ms/step\n",
            "4/4 [==============================] - 0s 3ms/step\n",
            "4/4 [==============================] - 0s 37ms/step\n",
            "4/4 [==============================] - 0s 4ms/step\n",
            "4/4 [==============================] - 0s 34ms/step\n"
          ]
        }
      ],
      "source": [
        "predicted_classes1 = np.array([])\n",
        "predicted_classes2 = np.array([])\n",
        "labels =  np.array([])\n",
        "for x, y in test_dataset:\n",
        "  predicted_classes1 = np.concatenate([predicted_classes1,\n",
        "                                       np.array([(0 if z[0]<0.5 else 1) for z in model1.predict(x)])])\n",
        "  predicted_classes2 = np.concatenate([predicted_classes2,\n",
        "                       np.argmax(model2.predict(x), axis = -1)])\n",
        "  labels = np.concatenate([labels, y.numpy()])"
      ]
    },
    {
      "cell_type": "code",
      "execution_count": 101,
      "metadata": {
        "colab": {
          "base_uri": "https://localhost:8080/"
        },
        "id": "3-H0oVz0uclJ",
        "outputId": "8b4b40d9-1d2b-4f5b-c7fb-7d4ce7250d26"
      },
      "outputs": [
        {
          "name": "stdout",
          "output_type": "stream",
          "text": [
            "[0. 1. 0. ... 1. 1. 1.]\n"
          ]
        }
      ],
      "source": [
        "print(labels)"
      ]
    },
    {
      "cell_type": "code",
      "execution_count": 116,
      "metadata": {
        "id": "B60voFngpRJY"
      },
      "outputs": [
        {
          "name": "stdout",
          "output_type": "stream",
          "text": [
            "[[2881  119]\n",
            " [ 469 2531]]\n",
            "              precision    recall  f1-score   support\n",
            "\n",
            "        FAKE       0.86      0.96      0.91      3000\n",
            "        REAL       0.96      0.84      0.90      3000\n",
            "\n",
            "    accuracy                           0.90      6000\n",
            "   macro avg       0.91      0.90      0.90      6000\n",
            "weighted avg       0.91      0.90      0.90      6000\n",
            "\n"
          ]
        },
        {
          "data": {
            "image/png": "[encoded data removed]",
            "text/plain": [
              "<Figure size 1000x1000 with 2 Axes>"
            ]
          },
          "metadata": {},
          "output_type": "display_data"
        }
      ],
      "source": [
        "from sklearn.metrics import confusion_matrix, classification_report\n",
        "import matplotlib.pyplot as plt\n",
        "import seaborn as sns\n",
        "\n",
        "score = model1.evaluate(test_dataset, verbose=0)\n",
        "cm = confusion_matrix(labels, predicted_classes1)\n",
        "\n",
        "print(cm)\n",
        "\n",
        "plt.figure(figsize=(10,10))\n",
        "sns.heatmap(cm, annot=True, fmt=\".3f\", linewidths=.5, square = True, cmap = 'Blues_r', yticklabels=class_names, xticklabels=class_names)\n",
        "plt.ylabel('Actual label')\n",
        "plt.xlabel('Predicted label')\n",
        "all_sample_title = f'Model Accuracy Score: {score[1]:.2%}'\n",
        "plt.title(all_sample_title)\n",
        "plt.savefig('foo.png')\n",
        "\n",
        "print(classification_report(labels, predicted_classes1, target_names=class_names))"
      ]
    },
    {
      "cell_type": "code",
      "execution_count": 120,
      "metadata": {
        "id": "31v-krG1pszp"
      },
      "outputs": [
        {
          "name": "stdout",
          "output_type": "stream",
          "text": [
            "[[2809  191]\n",
            " [ 836 2164]]\n",
            "              precision    recall  f1-score   support\n",
            "\n",
            "        FAKE       0.77      0.94      0.85      3000\n",
            "        REAL       0.92      0.72      0.81      3000\n",
            "\n",
            "    accuracy                           0.83      6000\n",
            "   macro avg       0.84      0.83      0.83      6000\n",
            "weighted avg       0.84      0.83      0.83      6000\n",
            "\n"
          ]
        },
        {
          "data": {
            "image/png": "[encoded data removed]",
            "text/plain": [
              "<Figure size 1000x1000 with 2 Axes>"
            ]
          },
          "metadata": {},
          "output_type": "display_data"
        }
      ],
      "source": [
        "from sklearn.metrics import confusion_matrix, classification_report\n",
        "import matplotlib.pyplot as plt\n",
        "import seaborn as sns\n",
        "\n",
        "score = model2.evaluate(test_dataset, verbose=0)\n",
        "cm = confusion_matrix(labels, predicted_classes2)\n",
        "\n",
        "print(cm)\n",
        "\n",
        "plt.figure(figsize=(10,10))\n",
        "sns.heatmap(cm, annot=True, fmt=\".3f\", linewidths=.5, square = True, cmap = 'Blues_r', yticklabels=class_names, xticklabels=class_names)\n",
        "plt.ylabel('Actual label')\n",
        "plt.xlabel('Predicted label')\n",
        "all_sample_title = f'Model Accuracy Score: {score[1]:.2%}'\n",
        "plt.title(all_sample_title)\n",
        "plt.savefig('bar.png')\n",
        "\n",
        "print(classification_report(labels, predicted_classes2, target_names=class_names))"
      ]
    },
    {
      "cell_type": "code",
      "execution_count": null,
      "metadata": {
        "colab": {
          "base_uri": "https://localhost:8080/",
          "height": 1000
        },
        "id": "ii30yCLVvgUm",
        "outputId": "aa049054-ddb3-4458-eb66-bec41e2cc75f"
      },
      "outputs": [],
      "source": [
        "import os\n",
        "import numpy as np\n",
        "import matplotlib.pyplot as plt\n",
        "from keras.preprocessing import image\n",
        "from keras.models import load_model\n",
        "\n",
        "# Ścieżka do folderu z obrazami wejściowymi\n",
        "input_folder = '/content/drive/My Drive/testing/real'\n",
        "\n",
        "# Funkcja do przetwarzania obrazów\n",
        "def process_image(image_path):\n",
        "    img = image.load_img(image_path, target_size=(32, 32))\n",
        "    img_array = image.img_to_array(img)\n",
        "    img_array = np.expand_dims(img_array, axis=0)\n",
        "    img_array /= 255.0  # Normalizacja\n",
        "\n",
        "    return img_array\n",
        "\n",
        "# Iteruj przez obrazy wejściowe\n",
        "for filename in os.listdir(input_folder):\n",
        "        input_image_path = os.path.join(input_folder, filename)\n",
        "\n",
        "        # Przetwarzaj obraz za pomocą modelu1\n",
        "        input_img_array = process_image(input_image_path)\n",
        "        prediction1 = model1.predict(input_img_array)\n",
        "        class1 = (0 if model1.predict(x)[0]<0.5 else 1)\n",
        "\n",
        "        # Przetwarzaj obraz za pomocą modelu2\n",
        "        input_img_array = process_image(input_image_path)\n",
        "        prediction2 = model2.predict(input_img_array)\n",
        "        class2 = np.argmax(prediction2)\n",
        "\n",
        "        # Twórz wykres z podpisem klas\n",
        "        plt.figure()\n",
        "        plt.imshow(image.load_img(input_image_path))\n",
        "        plt.title(f'Class 1: {class1}, Class 2: {class2}')\n",
        "        plt.show()\n"
      ]
    }
  ],
  "metadata": {
    "colab": {
      "provenance": []
    },
    "kernelspec": {
      "display_name": "Python 3",
      "name": "python3"
    },
    "language_info": {
      "codemirror_mode": {
        "name": "ipython",
        "version": 3
      },
      "file_extension": ".py",
      "mimetype": "text/x-python",
      "name": "python",
      "nbconvert_exporter": "python",
      "pygments_lexer": "ipython3",
      "version": "3.11.7"
    }
  },
  "nbformat": 4,
  "nbformat_minor": 0
}
